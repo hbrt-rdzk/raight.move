{
 "cells": [
  {
   "cell_type": "markdown",
   "metadata": {},
   "source": [
    "# Summary"
   ]
  },
  {
   "cell_type": "markdown",
   "metadata": {},
   "source": [
    "\n",
    "\n",
    "34 kolumny metadata:\n",
    "* gating_info - NaN only\n",
    "* viewer_can_reshare - True only\n",
    "* display_resources - prawdopodobnie lista linków do postu z różymi wysokościami i szerokościami postu. Sprawdzane linki nie działają. Ilość zdjęć w poście prawdopodobnie nie ma znaczenia\n",
    "* viewer_in_photo_of_you - False only\n",
    "* viewer_has_saved_to_collection - False only\n",
    "* viewer_has_saved - False only\n",
    "* owner - słownik informacji o użytkowniku\n",
    "    1. id - id osoby, 99,65% duplikatów, ~288 posta na konto\n",
    "    2. username - problem datasetu, bo pliki .info nie zgadzają się z usernmae. Ciekawy pomysł 'sentyment' username\n",
    "    3. is_unpublished - False only\n",
    "    4. requested_by_viewer - False only\n",
    "    5. followed_by_viewer - False only\n",
    "    6. has_blocked_viewer - False only\n",
    "    7. profile_pic_url - link do profili, sprawdzane nie działają\n",
    "    8. full_name - rozszerzenie username\n",
    "    9. blocked_by_viewer - False only\n",
    "    10. is_verified - ~11,5% kont jest zweryfikowanych, tym większy influencer tym większa szansa\n",
    "    11. is_private - False only\n",
    "* viewer_has_liked - False only\n",
    "* id - id postu\n",
    "* should_log_client_event - 66% NaN, 33% False\n",
    "* edge_media_preview_like - słownik zawiera edges oraz count. Posiadając count nie zawiera często edges\n",
    "* edge_media_to_tagged_user - patrz edge_media_preview_like\n",
    "* dimensions - rozmiar posta width (min, max) (320\t1080167), height (min, max) (167, 1358)\n",
    "* __typename - ['GraphImage' 'GraphSidecar'] określa czy post można przewijać w bok. Zazwyczaj możliwość przewijania jest powiązana z wieloma zdjęciami w poście, ale nie zawsze i vice versa\n",
    "* location - 50% NaN, większość lokacji z USA. Zawiera słownik zawiera wiele kluczy w różnym stopniu i jakości wprowadzone (zip-code, miasto, etc.)\n",
    "* shortcode - ???\n",
    "* is_ad - False only\n",
    "* caption_is_edited - 60% postów nie ma edytowanych podpisów\n",
    "* edge_media_to_parent_comment - patrz edge_media_preview_like\n",
    "* media preview - 13,5 NaN, ???\n",
    "* taken_at_timestamp - większość postów ~2018 rok, okolice godziny 18\n",
    "* edge_media_to_caption - patrz edge_media_preview_like\n",
    "* tracking_token - ???\n",
    "* has_ranked_comments - False only\n",
    "* display_url - przeglądane linki nie działają\n",
    "* edge_web_media_to_related_media - patrz edge_media_preview_like\n",
    "* edge_media_preview_comment - patrz edge_media_preview_like\n",
    "* comments_disabled - 0.33% ma wyłączone komentarze\n",
    "* edge_media_to_sponsor_user - patrz edge_media_preview_like\n",
    "* accessibility_caption - większość postów nie ma opisu, jak już to zawiera jedną osobę, część opisów specyficznie stowrzona przez postującego\n",
    "* is_video - False only\n",
    "* edge_media_to_comment - patrz edge_media_preview_like\n",
    "* edge_sidecar_to_children - patrz edge_media_preview_like\n",
    "* fact_check_information - 100% NaN\n",
    "\n",
    "\n",
    "\n",
    "\n"
   ]
  }
 ],
 "metadata": {
  "language_info": {
   "name": "python"
  }
 },
 "nbformat": 4,
 "nbformat_minor": 2
}
