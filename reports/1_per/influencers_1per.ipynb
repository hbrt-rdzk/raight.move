{
 "cells": [
  {
   "cell_type": "markdown",
   "metadata": {},
   "source": [
    "# Summary"
   ]
  },
  {
   "cell_type": "markdown",
   "metadata": {},
   "source": [
    "Zalecane wczytywanie:\n",
    "- #Username string\n",
    "- #Category category\n",
    "- #Followers uint32\n",
    "- #Followees uint32\n",
    "- #Posts uint32\n",
    "\n",
    "Niewielka korelacja dodatnia (#Posts i #Followers) oraz (#Posts i #Followees) \\\n",
    "Niewielka korelacja ujemna (#Followers i #Followees) \\\n",
    "Możliwy wpływ kategorii na powyższe korelacje\n",
    "\n",
    "Należy dodać zmienną środowiskową categories zawierającą poprawne kategorie\n",
    "\n",
    "Część profili ma literówki w kolumnie 'Category'. Jest to niewielle próbek. Można wyrzucić lub ręcznie przypisać prawidłową kategorię\n",
    "\n",
    "Duże wartości odstające \\\n",
    "Jest niewielka część instagramerów posiadających znaczne (2 rzędów) większe wartości #Posts, #Followers, #Followees \n",
    "\n",
    "Nierówny rozkład Influencerów w poszczególnych kategoriach, dominuje fashion\n",
    "\n"
   ]
  }
 ],
 "metadata": {
  "language_info": {
   "name": "python"
  }
 },
 "nbformat": 4,
 "nbformat_minor": 2
}
