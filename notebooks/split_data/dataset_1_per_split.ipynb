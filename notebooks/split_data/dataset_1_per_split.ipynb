{
 "cells": [
  {
   "cell_type": "code",
   "execution_count": null,
   "metadata": {},
   "outputs": [],
   "source": [
    "import pandas as pd\n",
    "from sklearn.model_selection import train_test_split\n",
    "from tqdm import tqdm\n",
    "import os\n",
    "import shutil\n",
    "import json\n",
    "import yaml"
   ]
  },
  {
   "cell_type": "code",
   "execution_count": 9,
   "metadata": {},
   "outputs": [],
   "source": [
    "with open('config.yaml') as f:\n",
    "    cfg = yaml.load(f, Loader=yaml.FullLoader)\n",
    "    \n",
    "path_full_metadata = cfg['path_full_metadata']\n",
    "path_full_image = cfg['path_full_image']\n",
    "path_influcencer_full = cfg['path_full_influencers']\n",
    "\n",
    "path_1per_metadata = cfg['path_1per_metadata']\n",
    "path_1per_image = cfg['path_1per_image']\n",
    "path_influcencer_1per = cfg['path_1per_influencers']"
   ]
  },
  {
   "cell_type": "markdown",
   "id": "ec005e04-9a04-45b8-9f98-720ebad2667f",
   "metadata": {},
   "source": [
    "# Tworzenie zbioru 1%"
   ]
  },
  {
   "cell_type": "code",
   "execution_count": 2,
   "id": "401c66bd-e527-4ab5-bf94-289fb0bbb1a3",
   "metadata": {},
   "outputs": [],
   "source": [
    "df = pd.read_csv(path_influcencer_full,sep='\\t')"
   ]
  },
  {
   "cell_type": "code",
   "execution_count": 3,
   "id": "d275f514-5b33-4bd7-964a-8acf42d3b032",
   "metadata": {},
   "outputs": [],
   "source": [
    "df = df[1:].reset_index(drop=True)"
   ]
  },
  {
   "cell_type": "code",
   "execution_count": 6,
   "id": "e245a4d8-3ee2-4765-9bc0-757ef8d68aec",
   "metadata": {},
   "outputs": [],
   "source": [
    "df = df[~df['Category'].isin(['fasion','fashion 0.5'])]"
   ]
  },
  {
   "cell_type": "code",
   "execution_count": 11,
   "id": "1b9a747f-9e32-4a44-a231-e53476f6b567",
   "metadata": {},
   "outputs": [],
   "source": [
    "X_train, X_test = train_test_split(df,stratify=df['Category'],test_size=0.01,random_state=42)"
   ]
  },
  {
   "cell_type": "code",
   "execution_count": 12,
   "id": "b1ea6e35-4036-447e-8597-5bb757e86a55",
   "metadata": {},
   "outputs": [],
   "source": [
    "X_test = X_test.reset_index(drop=True)"
   ]
  },
  {
   "cell_type": "code",
   "execution_count": 17,
   "id": "54a3a24e-961c-4b5d-a281-fa0734ba6fbe",
   "metadata": {},
   "outputs": [],
   "source": [
    "X_test.to_csv(path_influcencer_1per,header=True,index=False)"
   ]
  },
  {
   "cell_type": "code",
   "execution_count": 18,
   "id": "1a06fdf3-2f75-4200-88a8-12c4514b464d",
   "metadata": {},
   "outputs": [],
   "source": [
    "df_ = pd.read_csv(path_influcencer_1per)"
   ]
  },
  {
   "cell_type": "code",
   "execution_count": 47,
   "id": "de76c2a1-01a7-4663-812f-5055f73f9569",
   "metadata": {},
   "outputs": [],
   "source": [
    "user_list = list(X_test['Username'])"
   ]
  },
  {
   "cell_type": "code",
   "execution_count": 52,
   "id": "5c4ba000-58a5-4821-ada5-2a657ab84fdf",
   "metadata": {},
   "outputs": [],
   "source": [
    "def test_structure_1_perc(abspath_src_folder_info,\n",
    "                          abspath_src_folder_image,\n",
    "                          path_1per_info,\n",
    "                          path_1per_image,\n",
    "                          user_list):\n",
    "\n",
    "    dest_folder_info = path_1per_info\n",
    "\n",
    "    dest_folder_image = path_1per_image\n",
    "    \n",
    "    for path in [dest_folder_info,dest_folder_image]:\n",
    "        if not os.path.exists(path):\n",
    "            os.makedirs(path)\n",
    "            print(f\"Utworzono folder: {path}\")\n",
    "        else:\n",
    "            print(f\"Folder {path} już istnieje.\")\n",
    "\n",
    "\n",
    "    print(\"Kopiowanie plików info\")\n",
    "    \n",
    "    for filename in tqdm(os.listdir(abspath_src_folder_info)):\n",
    "        for user in user_list:\n",
    "            if filename.startswith(user):\n",
    "                \n",
    "                src_file = os.path.join(abspath_src_folder_info, filename)\n",
    "                dest_file = os.path.join(dest_folder_info , filename)\n",
    "                \n",
    "                shutil.copy(src_file,dest_file)\n",
    "                break\n",
    "\n",
    "    print(\"Kopiowanie zdjęć\")\n",
    "    \n",
    "    for filename in tqdm(os.listdir(abspath_src_folder_image)):\n",
    "        for user in user_list:\n",
    "            if filename.startswith(user):\n",
    "                \n",
    "                src_file = os.path.join(abspath_src_folder_image, filename)\n",
    "                dest_file = os.path.join(dest_folder_image, filename)\n",
    "                \n",
    "                shutil.copy(src_file,dest_file)\n",
    "                break"
   ]
  },
  {
   "cell_type": "code",
   "execution_count": 49,
   "id": "4fe938f2-79df-4caf-8c11-fbcf22e25678",
   "metadata": {},
   "outputs": [
    {
     "name": "stdout",
     "output_type": "stream",
     "text": [
      "Folder E:\\Influencer dataset\\Post metadata (JSON files)\\info już istnieje.\n",
      "Utworzono folder: E:\\Influencer dataset\\Post images (JPG files)\\posts_image\\image\n",
      "Kopiowanie zdjęć\n"
     ]
    },
    {
     "name": "stderr",
     "output_type": "stream",
     "text": [
      "100%|███████████████████████████████████████████████████████████████████| 12933406/12933406 [09:40<00:00, 22296.12it/s]\n"
     ]
    }
   ],
   "source": [
    "test_structure_1_perc(path_full_metadata,\n",
    "                      path_full_image,\n",
    "                      path_1per_metadata,\n",
    "                      path_1per_image,\n",
    "                      user_list)"
   ]
  }
 ],
 "metadata": {
  "kernelspec": {
   "display_name": "Python 3 (ipykernel)",
   "language": "python",
   "name": "python3"
  },
  "language_info": {
   "codemirror_mode": {
    "name": "ipython",
    "version": 3
   },
   "file_extension": ".py",
   "mimetype": "text/x-python",
   "name": "python",
   "nbconvert_exporter": "python",
   "pygments_lexer": "ipython3",
   "version": "3.10.13"
  }
 },
 "nbformat": 4,
 "nbformat_minor": 5
}
