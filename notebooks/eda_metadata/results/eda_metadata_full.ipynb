{
 "cells": [
  {
   "cell_type": "markdown",
   "metadata": {},
   "source": [
    "# Imports and utils"
   ]
  },
  {
   "cell_type": "code",
   "execution_count": null,
   "metadata": {},
   "outputs": [],
   "source": [
    "import os\n",
    "import pandas as pd\n",
    "import plotly.express as px\n",
    "import plotly.subplots as sp\n",
    "import plotly.graph_objects as go\n",
    "import json\n",
    "from collections import defaultdict\n",
    "from tqdm import tqdm\n",
    "import yaml"
   ]
  },
  {
   "cell_type": "code",
   "execution_count": null,
   "metadata": {},
   "outputs": [],
   "source": [
    "config_path = os.path.join('config.yaml')\n",
    "\n",
    "with open(config_path) as f:\n",
    "    cfg = yaml.load(f, Loader=yaml.FullLoader)\n",
    "    \n",
    "data_path_post = cfg['path_metadata']\n",
    "data_path_map = cfg['path_mapping']\n",
    "data_path_influ = cfg['path_influencers']"
   ]
  },
  {
   "cell_type": "code",
   "execution_count": null,
   "metadata": {},
   "outputs": [],
   "source": [
    "def simple_check_column(df, column):\n",
    "    print(f'Uniques: {df[column].unique()}')\n",
    "    print(f\"Nan: {df[column].isna().mean() * 100} %\")\n",
    "    \n",
    "\n",
    "def edge_check_column(df, column):\n",
    "    print(f\"Head of column '{column}'\\n {df[column].head()}\")\n",
    "    print(f\"Nan: {df[column].isna().mean() * 100} %\")\n",
    "    # cost 99% time, can be refactored\n",
    "    edge_df = pd.DataFrame(df[column].apply(pd.Series))\n",
    "    print(f\"Head of df based on column '{column}'\\n {edge_df.head()}\")\n",
    "    significant_data = edge_df[~edge_df['edges'].isna()]\n",
    "    print(f\"Is every edge empty? {significant_data.apply(lambda x: len(x) == 0).all()}\")\n",
    "    if 'count' in significant_data.iloc[0].keys():\n",
    "        fig = px.box(significant_data, x='count', orientation='h', title='Poziomy Boxplot')\n",
    "        fig.show()\n",
    "    return edge_df\n",
    "\n",
    "def string_to_dict(input_string):\n",
    "    return json.loads(input_string) if type(input_string) is str else {}\n"
   ]
  },
  {
   "cell_type": "markdown",
   "metadata": {},
   "source": [
    "# Read data"
   ]
  },
  {
   "cell_type": "code",
   "execution_count": null,
   "metadata": {},
   "outputs": [],
   "source": [
    "# Lista, która będzie przechowywać dane z poszczególnych plików\n",
    "data_list = []\n",
    "\n",
    "# Iteracja przez pliki w folderze\n",
    "for filename in tqdm(os.listdir(data_path_post), desc=\"Wczytywanie plików .info\"):\n",
    "    if filename.endswith('.info'):\n",
    "        file_path = os.path.join(data_path_post, filename)\n",
    "\n",
    "        # Wczytanie pliku JSON i dodanie do listy\n",
    "        with open(file_path, 'r', encoding='utf-8') as file:\n",
    "            json_data = json.load(file)\n",
    "        \n",
    "        # Dodanie słownika do listy\n",
    "        data_list.append(json_data)\n",
    "\n",
    "# Utworzenie DataFrame z listy słowników\n",
    "posts_df = pd.DataFrame(data_list)\n",
    "\n",
    "# czy to pomaga w notebookach?\n",
    "del data_list\n"
   ]
  },
  {
   "cell_type": "code",
   "execution_count": null,
   "metadata": {},
   "outputs": [],
   "source": [
    "mapping_df = pd.read_csv(data_path_map, sep='\\t')"
   ]
  },
  {
   "cell_type": "code",
   "execution_count": null,
   "metadata": {},
   "outputs": [],
   "source": [
    "influ_df = pd.read_csv(data_path_influ, delimiter='\\t', header=0, skiprows=[1])"
   ]
  },
  {
   "cell_type": "markdown",
   "metadata": {},
   "source": [
    "# Basic info"
   ]
  },
  {
   "cell_type": "code",
   "execution_count": null,
   "metadata": {},
   "outputs": [],
   "source": [
    "posts_df.columns"
   ]
  },
  {
   "cell_type": "code",
   "execution_count": null,
   "metadata": {},
   "outputs": [],
   "source": [
    "posts_df.head()"
   ]
  },
  {
   "cell_type": "code",
   "execution_count": null,
   "metadata": {},
   "outputs": [],
   "source": [
    "posts_df.info(verbose=False)"
   ]
  },
  {
   "cell_type": "markdown",
   "metadata": {},
   "source": [
    "# Specific column analyze"
   ]
  },
  {
   "cell_type": "markdown",
   "metadata": {},
   "source": [
    "## gating_info"
   ]
  },
  {
   "cell_type": "code",
   "execution_count": null,
   "metadata": {},
   "outputs": [],
   "source": [
    "simple_check_column(posts_df, 'gating_info')"
   ]
  },
  {
   "cell_type": "markdown",
   "metadata": {},
   "source": [
    "## viewer_can_reshare"
   ]
  },
  {
   "cell_type": "code",
   "execution_count": null,
   "metadata": {},
   "outputs": [],
   "source": [
    "simple_check_column(posts_df, 'viewer_can_reshare')"
   ]
  },
  {
   "cell_type": "markdown",
   "metadata": {},
   "source": [
    "## display_resources"
   ]
  },
  {
   "cell_type": "code",
   "execution_count": null,
   "metadata": {},
   "outputs": [],
   "source": [
    "f\"Nan: {posts_df['display_resources'].apply(lambda x: len(x) == 0).sum().sum()} %\""
   ]
  },
  {
   "cell_type": "code",
   "execution_count": null,
   "metadata": {},
   "outputs": [],
   "source": [
    "posts_df['display_resources'].apply(lambda x: len(x) == 0).any()"
   ]
  },
  {
   "cell_type": "code",
   "execution_count": null,
   "metadata": {},
   "outputs": [],
   "source": [
    "posts_df['display_resources']"
   ]
  },
  {
   "cell_type": "code",
   "execution_count": null,
   "metadata": {},
   "outputs": [],
   "source": [
    "posts_df['display_resources'][1]"
   ]
  },
  {
   "cell_type": "code",
   "execution_count": null,
   "metadata": {},
   "outputs": [],
   "source": [
    "id_few_photos_post = '1765627446136050586'"
   ]
  },
  {
   "cell_type": "code",
   "execution_count": null,
   "metadata": {},
   "outputs": [],
   "source": [
    "posts_df[posts_df['id'] == '1765627446136050586']['display_resources'].iloc[0]"
   ]
  },
  {
   "cell_type": "markdown",
   "metadata": {},
   "source": [
    "ręczne znalezienie id w JSON-Image_files_mapping.txt sugeruje wiele źródeł pobrania do jednego posta, ilość zdjęć nie ma wpływu"
   ]
  },
  {
   "cell_type": "markdown",
   "metadata": {},
   "source": [
    "## viewer_in_photo_of_you "
   ]
  },
  {
   "cell_type": "code",
   "execution_count": null,
   "metadata": {},
   "outputs": [],
   "source": [
    "simple_check_column(posts_df, 'viewer_in_photo_of_you')"
   ]
  },
  {
   "cell_type": "markdown",
   "metadata": {},
   "source": [
    "## viewer_has_saved_to_collection"
   ]
  },
  {
   "cell_type": "code",
   "execution_count": null,
   "metadata": {},
   "outputs": [],
   "source": [
    "simple_check_column(posts_df, 'viewer_has_saved_to_collection')"
   ]
  },
  {
   "cell_type": "markdown",
   "metadata": {},
   "source": [
    "## viewer_has_saved"
   ]
  },
  {
   "cell_type": "code",
   "execution_count": null,
   "metadata": {},
   "outputs": [],
   "source": [
    "simple_check_column(posts_df, 'viewer_has_saved')"
   ]
  },
  {
   "cell_type": "markdown",
   "metadata": {},
   "source": [
    "## owner"
   ]
  },
  {
   "cell_type": "markdown",
   "metadata": {},
   "source": [
    "### Basic"
   ]
  },
  {
   "cell_type": "code",
   "execution_count": null,
   "metadata": {},
   "outputs": [],
   "source": [
    "posts_df['owner'].head()"
   ]
  },
  {
   "cell_type": "code",
   "execution_count": null,
   "metadata": {},
   "outputs": [],
   "source": [
    "posts_df['owner'].iloc[0]"
   ]
  },
  {
   "cell_type": "code",
   "execution_count": null,
   "metadata": {},
   "outputs": [],
   "source": [
    "f\"Nan: {posts_df['owner'].isna().mean() * 100} %\""
   ]
  },
  {
   "cell_type": "code",
   "execution_count": null,
   "metadata": {},
   "outputs": [],
   "source": [
    "owner_df = pd.DataFrame(posts_df['owner'].apply(pd.Series))\n",
    "#owner_df = owner_df.drop_duplicates(subset=['id'])"
   ]
  },
  {
   "cell_type": "markdown",
   "metadata": {},
   "source": [
    "### Depth"
   ]
  },
  {
   "cell_type": "markdown",
   "metadata": {},
   "source": [
    "#### username"
   ]
  },
  {
   "cell_type": "code",
   "execution_count": null,
   "metadata": {},
   "outputs": [],
   "source": [
    "# Do usernames have an impact? Sentiment for username?"
   ]
  },
  {
   "cell_type": "code",
   "execution_count": null,
   "metadata": {},
   "outputs": [],
   "source": [
    "tmp = 0\n",
    "a = []\n",
    "for filename in tqdm(os.listdir(data_path_post), desc=\"Wczytywanie plików .info\"):\n",
    "    if filename.endswith('.info'):\n",
    "        file_path = os.path.join(data_path_post, filename)\n",
    "\n",
    "        # Wczytanie pliku JSON i dodanie do listy\n",
    "        with open(file_path, 'r', encoding='utf-8') as file:\n",
    "            json_data = json.load(file)\n",
    "            if json_data['owner']['username'] != filename.split('-')[0]:\n",
    "                #print(json_data['owner']['username'], filename.split('-')[0])\n",
    "                #a = json_data\n",
    "                #break\n",
    "                tmp += 1\n",
    "tmp\n",
    "# sus behavior\n"
   ]
  },
  {
   "cell_type": "markdown",
   "metadata": {},
   "source": [
    "#### is_unpublished"
   ]
  },
  {
   "cell_type": "code",
   "execution_count": null,
   "metadata": {},
   "outputs": [],
   "source": [
    "simple_check_column(owner_df, 'is_unpublished')"
   ]
  },
  {
   "cell_type": "markdown",
   "metadata": {},
   "source": [
    "#### requested_by_viewer"
   ]
  },
  {
   "cell_type": "code",
   "execution_count": null,
   "metadata": {},
   "outputs": [],
   "source": [
    "simple_check_column(owner_df, 'requested_by_viewer')"
   ]
  },
  {
   "cell_type": "markdown",
   "metadata": {},
   "source": [
    "#### followed_by_viewer"
   ]
  },
  {
   "cell_type": "code",
   "execution_count": null,
   "metadata": {},
   "outputs": [],
   "source": [
    "simple_check_column(owner_df, 'followed_by_viewer')"
   ]
  },
  {
   "cell_type": "markdown",
   "metadata": {},
   "source": [
    "#### has_blocked_viewer"
   ]
  },
  {
   "cell_type": "code",
   "execution_count": null,
   "metadata": {},
   "outputs": [],
   "source": [
    "simple_check_column(owner_df, 'has_blocked_viewer')"
   ]
  },
  {
   "cell_type": "markdown",
   "metadata": {},
   "source": [
    "#### profile_pic_url"
   ]
  },
  {
   "cell_type": "code",
   "execution_count": null,
   "metadata": {},
   "outputs": [],
   "source": [
    "print(f\"Nan: {owner_df['profile_pic_url'].isna().mean() * 100} %\")"
   ]
  },
  {
   "cell_type": "code",
   "execution_count": null,
   "metadata": {},
   "outputs": [],
   "source": [
    "owner_df['profile_pic_url']"
   ]
  },
  {
   "cell_type": "markdown",
   "metadata": {},
   "source": [
    "#### full_name"
   ]
  },
  {
   "cell_type": "code",
   "execution_count": null,
   "metadata": {},
   "outputs": [],
   "source": [
    "print(f\"Nan: {owner_df['full_name'].isna().mean() * 100} %\")"
   ]
  },
  {
   "cell_type": "markdown",
   "metadata": {},
   "source": [
    "#### blocked_by_viewer"
   ]
  },
  {
   "cell_type": "code",
   "execution_count": null,
   "metadata": {},
   "outputs": [],
   "source": [
    "simple_check_column(owner_df, 'blocked_by_viewer')"
   ]
  },
  {
   "cell_type": "markdown",
   "metadata": {},
   "source": [
    "#### is_verified"
   ]
  },
  {
   "cell_type": "code",
   "execution_count": null,
   "metadata": {},
   "outputs": [],
   "source": [
    "simple_check_column(owner_df, 'is_verified')"
   ]
  },
  {
   "cell_type": "code",
   "execution_count": null,
   "metadata": {},
   "outputs": [],
   "source": [
    "percent_verified = owner_df['is_verified'].mean() * 100\n",
    "\n",
    "print(f'Procent kont zweryfikowanych: {percent_verified:.2f}%')"
   ]
  },
  {
   "cell_type": "code",
   "execution_count": null,
   "metadata": {},
   "outputs": [],
   "source": [
    "fig = px.histogram(owner_df, x='is_verified', title='Liczba Wystąpień is_verified')\n",
    "\n",
    "fig.show()"
   ]
  },
  {
   "cell_type": "code",
   "execution_count": null,
   "metadata": {},
   "outputs": [],
   "source": [
    "print(f\"Has username always same status of is_verified: {owner_df.groupby('username')['is_verified'].nunique().eq(1).all()}\")"
   ]
  },
  {
   "cell_type": "code",
   "execution_count": null,
   "metadata": {},
   "outputs": [],
   "source": [
    "usernames_df = owner_df.groupby('username')['is_verified'].max().reset_index()\n",
    "usernames_df = usernames_df.merge(influ_df, left_on='username', right_on='Username', how='left')"
   ]
  },
  {
   "cell_type": "code",
   "execution_count": null,
   "metadata": {},
   "outputs": [],
   "source": [
    "# posts_df usernames dont match influ_df\n",
    "usernames_df[usernames_df['Category'].isna()]"
   ]
  },
  {
   "cell_type": "code",
   "execution_count": null,
   "metadata": {},
   "outputs": [],
   "source": [
    "usernames_df = usernames_df[~usernames_df['Category'].isna()]\n",
    "usernames_df.corr(numeric_only=True)"
   ]
  },
  {
   "cell_type": "code",
   "execution_count": null,
   "metadata": {},
   "outputs": [],
   "source": [
    "a['Followers_quantile'].apply(lambda x: str(int(x.left)) +', ' + str(int(x.right)))"
   ]
  },
  {
   "cell_type": "code",
   "execution_count": null,
   "metadata": {},
   "outputs": [],
   "source": [
    "\n",
    "a = usernames_df.sort_values(by='#Followers', ascending=True)\n",
    "b = pd.qcut(a['#Followers'], q=[0, 0.1, 0.2, 0.3, 0.4, 0.5, 0.6, 0.7, 0.8, 0.9, 1])\n",
    "a['Followers_quantile'] = b.apply(lambda x: str(int(x.left)) +', ' + str(int(x.right)))\n",
    "a.groupby(a['Followers_quantile'])['is_verified'].apply(lambda x: x.astype(float).mean()*100).reset_index()\n",
    "a['Followers_quantile']"
   ]
  },
  {
   "cell_type": "code",
   "execution_count": null,
   "metadata": {},
   "outputs": [],
   "source": [
    "# 1. Barplot procent kont zweryfikowanych dla każdej kategorii\n",
    "category_verification = usernames_df.groupby('Category')['is_verified'].mean().reset_index()\n",
    "\n",
    "usernames_df = usernames_df.sort_values(by='#Followers', ascending=True)\n",
    "\n",
    "# 2. Barplot dla każdego 10% kolejnych najwyższych wartości #Followers\n",
    "followers_bins = pd.qcut(a['#Followers'], q=[0, 0.1, 0.2, 0.3, 0.4, 0.5, 0.6, 0.7, 0.8, 0.9, 1])\n",
    "usernames_df['Followers_quantile'] = followers_bins.apply(\n",
    "    lambda x: f'{int(x.left)}, {int(x.right)}'\n",
    ")\n",
    "followers_verification = usernames_df.groupby(usernames_df['Followers_quantile'])['is_verified'].apply(lambda x: x.astype(float).mean()).reset_index()\n",
    "\n",
    "\n",
    "\n",
    "# 3. Barplot dla każdego 10% kolejnych najwyższych wartości #Followees\n",
    "followees_bins = pd.qcut(a['#Followees'], q=[0, 0.1, 0.2, 0.3, 0.4, 0.5, 0.6, 0.7, 0.8, 0.9, 1])\n",
    "usernames_df['Followees_quantile'] = followers_bins.apply(\n",
    "    lambda x: f'{int(x.left)}, {int(x.right)}'\n",
    ")\n",
    "followees_verification = usernames_df.groupby(usernames_df['Followees_quantile'])['is_verified'].apply(lambda x: x.astype(float).mean()).reset_index()\n",
    "\n",
    "# 4. Barplot dla każdego 10% kolejnych najwyższych wartości #Posts\n",
    "posts_bins = pd.qcut(a['#Posts'], q=[0, 0.1, 0.2, 0.3, 0.4, 0.5, 0.6, 0.7, 0.8, 0.9, 1])\n",
    "usernames_df['Posts_quantile'] = posts_bins.apply(\n",
    "    lambda x: f'{int(x.left)}, {int(x.right)}'\n",
    ")\n",
    "posts_verification = usernames_df.groupby(usernames_df['Posts_quantile'])['is_verified'].apply(lambda x: x.astype(float).mean()).reset_index()\n",
    "\n",
    "# Tworzenie subplotów\n",
    "fig = sp.make_subplots(rows=2, cols=2, subplot_titles=['Procent kont zweryfikowanych dla każdej kategorii', \n",
    "                                                    'Procent kont zweryfikowanych dla kolejnych 10% najwyższych #Followers',\n",
    "                                                    'Procent kont zweryfikowanych dla kolejnych 10% najwyższych #Followees',\n",
    "                                                    'Procent kont zweryfikowanych dla kolejnych 10% najwyższych #Posts'])\n",
    "\n",
    "# Dodawanie wykresów do subplotów\n",
    "fig.add_trace(go.Bar(x=category_verification['Category'], y=category_verification['is_verified'] * 100, name='Procent zweryfikowanych', ), \n",
    "              row=1, col=1)\n",
    "fig.add_trace(go.Bar(x=followers_verification['Followers_quantile'], y=followers_verification['is_verified'] * 100, name='Procent zweryfikowanych'), \n",
    "              row=1, col=2)\n",
    "fig.add_trace(go.Bar(x=followees_verification['Followees_quantile'], y=followees_verification['is_verified'] * 100, name='Procent zweryfikowanych'), \n",
    "              row=2, col=1)\n",
    "fig.add_trace(go.Bar(x=posts_verification['Posts_quantile'], y=posts_verification['is_verified'] * 100, name='Procent zweryfikowanych'), \n",
    "              row=2, col=2)\n",
    "\n",
    "fig.update_yaxes(title_text='Procenty', row=1, col=1)\n",
    "fig.update_xaxes(title_text='Przedziały wartośći (kolejne kwantyle)', row=1, col=1)\n",
    "fig.update_yaxes(title_text='Procenty', row=1, col=2)\n",
    "fig.update_xaxes(title_text='Przedziały wartośći (kolejne kwantyle)', row=1, col=2)\n",
    "fig.update_yaxes(title_text='Procenty', row=2, col=1)\n",
    "fig.update_xaxes(title_text='Przedziały wartośći (kolejne kwantyle)', row=2, col=1)\n",
    "fig.update_yaxes(title_text='Procenty', row=2, col=2)\n",
    "fig.update_xaxes(title_text='Przedziały wartośći (kolejne kwantyle)', row=2, col=2)\n",
    "# Aktualizacja układu subplotów\n",
    "fig.update_layout(showlegend=False, title_text=\"Analiza Zweryfikowanych Kont w Social Media\", height=700)\n",
    "\n",
    "# Wyświetlenie wykresu\n",
    "fig.show()"
   ]
  },
  {
   "cell_type": "code",
   "execution_count": null,
   "metadata": {},
   "outputs": [],
   "source": [
    "del usernames_df"
   ]
  },
  {
   "cell_type": "markdown",
   "metadata": {},
   "source": [
    "#### id"
   ]
  },
  {
   "cell_type": "code",
   "execution_count": null,
   "metadata": {},
   "outputs": [],
   "source": [
    "print(f\"Nan: {owner_df['id'].isna().mean() * 100} %\")"
   ]
  },
  {
   "cell_type": "code",
   "execution_count": null,
   "metadata": {},
   "outputs": [],
   "source": [
    "percent_duplicates = owner_df['id'].duplicated().mean() * 100\n",
    "\n",
    "print(f'Procent duplikatów w kolumnie \\'id\\': {percent_duplicates:.2f}%')"
   ]
  },
  {
   "cell_type": "code",
   "execution_count": null,
   "metadata": {},
   "outputs": [],
   "source": [
    "print(f\"Avg post per user: {len(owner_df)/len(owner_df.drop_duplicates(subset=['id']))}\")"
   ]
  },
  {
   "cell_type": "markdown",
   "metadata": {},
   "source": [
    "#### is_private"
   ]
  },
  {
   "cell_type": "code",
   "execution_count": null,
   "metadata": {},
   "outputs": [],
   "source": [
    "simple_check_column(owner_df, 'is_private')"
   ]
  },
  {
   "cell_type": "markdown",
   "metadata": {},
   "source": [
    "## viewer_has_liked"
   ]
  },
  {
   "cell_type": "code",
   "execution_count": null,
   "metadata": {},
   "outputs": [],
   "source": [
    "simple_check_column(posts_df, 'viewer_has_liked')"
   ]
  },
  {
   "cell_type": "markdown",
   "metadata": {},
   "source": [
    "## id"
   ]
  },
  {
   "cell_type": "code",
   "execution_count": null,
   "metadata": {},
   "outputs": [],
   "source": [
    "posts_df['id'].duplicated().any()"
   ]
  },
  {
   "cell_type": "code",
   "execution_count": null,
   "metadata": {},
   "outputs": [],
   "source": [
    "f\" Nan: {posts_df['id'].isna().mean() * 100} %\""
   ]
  },
  {
   "cell_type": "markdown",
   "metadata": {},
   "source": [
    "## should_log_client_event"
   ]
  },
  {
   "cell_type": "code",
   "execution_count": null,
   "metadata": {},
   "outputs": [],
   "source": [
    "simple_check_column(posts_df, 'should_log_client_event')"
   ]
  },
  {
   "cell_type": "markdown",
   "metadata": {},
   "source": [
    "## edge_media_preview_like"
   ]
  },
  {
   "cell_type": "markdown",
   "metadata": {},
   "source": [
    "### Basic"
   ]
  },
  {
   "cell_type": "code",
   "execution_count": null,
   "metadata": {},
   "outputs": [],
   "source": [
    "media_preview_df = edge_check_column(posts_df, 'edge_media_preview_like')"
   ]
  },
  {
   "cell_type": "markdown",
   "metadata": {},
   "source": [
    "### Depth"
   ]
  },
  {
   "cell_type": "markdown",
   "metadata": {},
   "source": [
    "### Delete"
   ]
  },
  {
   "cell_type": "code",
   "execution_count": null,
   "metadata": {},
   "outputs": [],
   "source": [
    "del media_preview_df"
   ]
  },
  {
   "cell_type": "markdown",
   "metadata": {},
   "source": [
    "## edge_media_to_tagged_user"
   ]
  },
  {
   "cell_type": "markdown",
   "metadata": {},
   "source": [
    "### Basic"
   ]
  },
  {
   "cell_type": "code",
   "execution_count": null,
   "metadata": {},
   "outputs": [],
   "source": [
    "media_tagged_df = edge_check_column(posts_df, 'edge_media_to_tagged_user')"
   ]
  },
  {
   "cell_type": "markdown",
   "metadata": {},
   "source": [
    "### Depth"
   ]
  },
  {
   "cell_type": "markdown",
   "metadata": {},
   "source": [
    "### Delete"
   ]
  },
  {
   "cell_type": "code",
   "execution_count": null,
   "metadata": {},
   "outputs": [],
   "source": [
    "del media_tagged_df"
   ]
  },
  {
   "cell_type": "markdown",
   "metadata": {},
   "source": [
    "## dimensions"
   ]
  },
  {
   "cell_type": "code",
   "execution_count": null,
   "metadata": {},
   "outputs": [],
   "source": [
    "posts_df['dimensions']"
   ]
  },
  {
   "cell_type": "code",
   "execution_count": null,
   "metadata": {},
   "outputs": [],
   "source": [
    "f\"Nan: {posts_df['dimensions'].isna().mean() * 100} %\""
   ]
  },
  {
   "cell_type": "code",
   "execution_count": null,
   "metadata": {},
   "outputs": [],
   "source": [
    "posts_df['dimensions'].apply(lambda x: len(x) == 2).all()"
   ]
  },
  {
   "cell_type": "code",
   "execution_count": null,
   "metadata": {},
   "outputs": [],
   "source": [
    "\n",
    "# Uzyskaj min, max dla kolumn 'width' i 'height'\n",
    "normalized_df = pd.json_normalize(posts_df['dimensions'])\n",
    "\n",
    "# Uzyskaj min, max dla kolumn 'width' i 'height'\n",
    "normalized_df.agg(['min', 'max'])"
   ]
  },
  {
   "cell_type": "code",
   "execution_count": null,
   "metadata": {},
   "outputs": [],
   "source": [
    "del normalized_df"
   ]
  },
  {
   "cell_type": "markdown",
   "metadata": {},
   "source": [
    "## __typename"
   ]
  },
  {
   "cell_type": "code",
   "execution_count": null,
   "metadata": {},
   "outputs": [],
   "source": [
    "simple_check_column(posts_df, '__typename')"
   ]
  },
  {
   "cell_type": "code",
   "execution_count": null,
   "metadata": {},
   "outputs": [],
   "source": [
    "posts_df['__typename']"
   ]
  },
  {
   "cell_type": "code",
   "execution_count": null,
   "metadata": {},
   "outputs": [],
   "source": [
    "check_typename_df = posts_df[['id', '__typename']].copy()\n",
    "check_typename_df['id'] = check_typename_df['id'].apply(lambda x: x+'.info')\n",
    "check_typename_df = check_typename_df.merge(mapping_df, left_on='id',right_on='JSON_PostMetadata_file_name')\n",
    "\n",
    "# if __typename == 'GraphImage' and Image_file_name hasnt only one photo\n",
    "condition1 = (check_typename_df['__typename'] == 'GraphImage') & (check_typename_df['Image_file_name'].apply(lambda x: len(x.split(','))) != 1)\n",
    "\n",
    "# if __typename == 'GraphSidecar' and Image_file_name has lestt than 2 photo\n",
    "condition2 = (check_typename_df['__typename'] == 'GraphSidecar') & (check_typename_df['Image_file_name'].apply(lambda x: len(x.split(','))) < 2)"
   ]
  },
  {
   "cell_type": "code",
   "execution_count": null,
   "metadata": {},
   "outputs": [],
   "source": [
    "check_typename_df[condition1].head()"
   ]
  },
  {
   "cell_type": "code",
   "execution_count": null,
   "metadata": {},
   "outputs": [],
   "source": [
    "check_typename_df[condition2].head()"
   ]
  },
  {
   "cell_type": "code",
   "execution_count": null,
   "metadata": {},
   "outputs": [],
   "source": [
    "del check_typename_df "
   ]
  },
  {
   "cell_type": "markdown",
   "metadata": {},
   "source": [
    "## location"
   ]
  },
  {
   "cell_type": "markdown",
   "metadata": {},
   "source": [
    "#### Basic"
   ]
  },
  {
   "cell_type": "code",
   "execution_count": null,
   "metadata": {},
   "outputs": [],
   "source": [
    "posts_df['location']"
   ]
  },
  {
   "cell_type": "code",
   "execution_count": null,
   "metadata": {},
   "outputs": [],
   "source": [
    "print(f\"Nan: {posts_df['location'].isna().mean() * 100} %\")"
   ]
  },
  {
   "cell_type": "code",
   "execution_count": null,
   "metadata": {},
   "outputs": [],
   "source": [
    "location_df = pd.json_normalize(posts_df['location'])\n",
    "location_df['address_json'] = location_df['address_json'].apply(string_to_dict)"
   ]
  },
  {
   "cell_type": "code",
   "execution_count": null,
   "metadata": {},
   "outputs": [],
   "source": [
    "location_df.head()"
   ]
  },
  {
   "cell_type": "code",
   "execution_count": null,
   "metadata": {},
   "outputs": [],
   "source": [
    "location_df = pd.json_normalize(location_df['address_json'])\n"
   ]
  },
  {
   "cell_type": "code",
   "execution_count": null,
   "metadata": {},
   "outputs": [],
   "source": [
    "location_df.head()"
   ]
  },
  {
   "cell_type": "markdown",
   "metadata": {},
   "source": [
    "#### Depth"
   ]
  },
  {
   "cell_type": "code",
   "execution_count": null,
   "metadata": {},
   "outputs": [],
   "source": [
    "location_df.info()"
   ]
  },
  {
   "cell_type": "code",
   "execution_count": null,
   "metadata": {},
   "outputs": [],
   "source": [
    "fig = px.bar(location_df['country_code'].value_counts().nlargest(50).reset_index(), x='index', y='country_code',\n",
    "             labels={'index': 'Country Code', 'country_code': 'Count'},\n",
    "             title='Top 50 Wystąpień Wartości w Kolumnie country_code')\n",
    "\n",
    "# Wyświetl wykres\n",
    "fig.show()"
   ]
  },
  {
   "cell_type": "markdown",
   "metadata": {},
   "source": [
    "#### Delete"
   ]
  },
  {
   "cell_type": "code",
   "execution_count": null,
   "metadata": {},
   "outputs": [],
   "source": [
    "del location_df"
   ]
  },
  {
   "cell_type": "markdown",
   "metadata": {},
   "source": [
    "## shortcode"
   ]
  },
  {
   "cell_type": "code",
   "execution_count": null,
   "metadata": {},
   "outputs": [],
   "source": [
    "posts_df['shortcode']"
   ]
  },
  {
   "cell_type": "markdown",
   "metadata": {},
   "source": [
    "## is_ad"
   ]
  },
  {
   "cell_type": "code",
   "execution_count": null,
   "metadata": {},
   "outputs": [],
   "source": [
    "simple_check_column(posts_df, 'is_ad')"
   ]
  },
  {
   "cell_type": "markdown",
   "metadata": {},
   "source": [
    "## caption_is_edited"
   ]
  },
  {
   "cell_type": "code",
   "execution_count": null,
   "metadata": {},
   "outputs": [],
   "source": [
    "simple_check_column(posts_df, 'caption_is_edited')"
   ]
  },
  {
   "cell_type": "code",
   "execution_count": null,
   "metadata": {},
   "outputs": [],
   "source": [
    "fig = px.bar(posts_df['caption_is_edited'].value_counts().reset_index(), x='index', y='caption_is_edited',\n",
    "             title='Is caption edited?')\n",
    "\n",
    "# Wyświetl wykres\n",
    "fig.show()"
   ]
  },
  {
   "cell_type": "markdown",
   "metadata": {},
   "source": [
    "## edge_media_to_parent_comment"
   ]
  },
  {
   "cell_type": "markdown",
   "metadata": {},
   "source": [
    "### Basic"
   ]
  },
  {
   "cell_type": "code",
   "execution_count": null,
   "metadata": {},
   "outputs": [],
   "source": [
    "media_parent_df = edge_check_column(posts_df, 'edge_media_to_parent_comment')"
   ]
  },
  {
   "cell_type": "markdown",
   "metadata": {},
   "source": [
    "### Depth"
   ]
  },
  {
   "cell_type": "markdown",
   "metadata": {},
   "source": [
    "### Delete"
   ]
  },
  {
   "cell_type": "code",
   "execution_count": null,
   "metadata": {},
   "outputs": [],
   "source": [
    "del media_parent_df"
   ]
  },
  {
   "cell_type": "markdown",
   "metadata": {},
   "source": [
    "## media_preview"
   ]
  },
  {
   "cell_type": "code",
   "execution_count": null,
   "metadata": {},
   "outputs": [],
   "source": [
    "simple_check_column(posts_df, 'media_preview')"
   ]
  },
  {
   "cell_type": "markdown",
   "metadata": {},
   "source": [
    "## taken_at_timestamp"
   ]
  },
  {
   "cell_type": "code",
   "execution_count": null,
   "metadata": {},
   "outputs": [],
   "source": [
    "simple_check_column(posts_df, 'taken_at_timestamp')"
   ]
  },
  {
   "cell_type": "code",
   "execution_count": null,
   "metadata": {},
   "outputs": [],
   "source": [
    "posts_df['timestamp'] = pd.to_datetime(posts_df['taken_at_timestamp'], unit='s')\n",
    "\n",
    "# Utwórz nową kolumnę 'year', która zawiera informacje o roku\n",
    "posts_df['year'] = posts_df['timestamp'].dt.year\n",
    "posts_df['month'] = posts_df['timestamp'].dt.month\n",
    "posts_df['day'] = posts_df['timestamp'].dt.day\n",
    "posts_df['hour'] = posts_df['timestamp'].dt.hour"
   ]
  },
  {
   "cell_type": "code",
   "execution_count": null,
   "metadata": {},
   "outputs": [],
   "source": [
    "histogram_data_year = posts_df['year'].value_counts().sort_index()\n",
    "years = histogram_data_year.index\n",
    "counts_year = histogram_data_year.values\n",
    "\n",
    "histogram_data_month = posts_df['month'].value_counts().sort_index()\n",
    "months = histogram_data_month.index\n",
    "counts_month = histogram_data_month.values\n",
    "\n",
    "histogram_data_day = posts_df['day'].value_counts().sort_index()\n",
    "days = histogram_data_day.index\n",
    "counts_day = histogram_data_day.values\n",
    "\n",
    "histogram_data_day = posts_df['hour'].value_counts().sort_index()\n",
    "hours = histogram_data_day.index\n",
    "counts_hour = histogram_data_day.values"
   ]
  },
  {
   "cell_type": "code",
   "execution_count": null,
   "metadata": {},
   "outputs": [],
   "source": [
    "fig = sp.make_subplots(rows=2, cols=2, subplot_titles=('Częstość Wystąpień w Poszczególnych Latach', 'Częstość Wystąpień w Poszczególnych Miesiącach',\n",
    "                                                      'Częstość Wystąpień w Poszczególnych Dniach', 'Częstość Wystąpień w Poszczególnych Godzinach'))\n",
    "\n",
    "# Dodaj subplot dla lat\n",
    "fig.add_trace(go.Bar(x=years, y=counts_year), row=1, col=1)\n",
    "fig.update_xaxes(title_text='Rok', row=1, col=1)\n",
    "fig.update_yaxes(title_text='Częstość', row=1, col=1)\n",
    "\n",
    "# Dodaj subplot dla miesięcy\n",
    "fig.add_trace(go.Bar(x=months, y=counts_month), row=1, col=2)\n",
    "fig.update_xaxes(title_text='Miesiąc', row=1, col=2)\n",
    "fig.update_yaxes(title_text='Częstość', row=1, col=2)\n",
    "\n",
    "# Dodaj subplot dla dni\n",
    "fig.add_trace(go.Bar(x=days, y=counts_day), row=2, col=1)\n",
    "fig.update_xaxes(title_text='Dzień', row=2, col=1)\n",
    "fig.update_yaxes(title_text='Częstość', row=2, col=1)\n",
    "\n",
    "# Dodaj subplot dla godzin\n",
    "fig.add_trace(go.Bar(x=hours, y=counts_hour), row=2, col=2)\n",
    "fig.update_xaxes(title_text='Godzina', row=2, col=2)\n",
    "fig.update_yaxes(title_text='Częstość', row=2, col=2)\n",
    "\n",
    "# Zaktualizuj tytuł ogólny\n",
    "fig.update_layout(title_text='Analiza Częstości Wystąpień w Poszczególnych Kategoriach')\n",
    "\n",
    "# Wyświetl wykres\n",
    "fig.show()"
   ]
  },
  {
   "cell_type": "code",
   "execution_count": null,
   "metadata": {},
   "outputs": [],
   "source": [
    "columns_to_remove = ['timestamp', 'year', 'month', 'day', 'hour']\n",
    "posts_df.drop(columns=columns_to_remove, inplace=True)"
   ]
  },
  {
   "cell_type": "markdown",
   "metadata": {},
   "source": [
    "## edge_media_to_caption"
   ]
  },
  {
   "cell_type": "markdown",
   "metadata": {},
   "source": [
    "### Basic"
   ]
  },
  {
   "cell_type": "code",
   "execution_count": null,
   "metadata": {},
   "outputs": [],
   "source": [
    "media_caption_df = edge_check_column(posts_df, 'edge_media_to_caption')"
   ]
  },
  {
   "cell_type": "markdown",
   "metadata": {},
   "source": [
    "### Depth"
   ]
  },
  {
   "cell_type": "markdown",
   "metadata": {},
   "source": [
    "### Delete"
   ]
  },
  {
   "cell_type": "code",
   "execution_count": null,
   "metadata": {},
   "outputs": [],
   "source": [
    "del media_caption_df"
   ]
  },
  {
   "cell_type": "markdown",
   "metadata": {},
   "source": [
    "## tracking_token"
   ]
  },
  {
   "cell_type": "code",
   "execution_count": null,
   "metadata": {},
   "outputs": [],
   "source": [
    "simple_check_column(posts_df, 'tracking_token')"
   ]
  },
  {
   "cell_type": "markdown",
   "metadata": {},
   "source": [
    "## has_ranked_comments"
   ]
  },
  {
   "cell_type": "code",
   "execution_count": null,
   "metadata": {},
   "outputs": [],
   "source": [
    "simple_check_column(posts_df, 'has_ranked_comments')"
   ]
  },
  {
   "cell_type": "markdown",
   "metadata": {},
   "source": [
    "## display_url"
   ]
  },
  {
   "cell_type": "code",
   "execution_count": null,
   "metadata": {},
   "outputs": [],
   "source": [
    "simple_check_column(posts_df, 'display_url')"
   ]
  },
  {
   "cell_type": "markdown",
   "metadata": {},
   "source": [
    "## edge_web_media_to_related_media"
   ]
  },
  {
   "cell_type": "markdown",
   "metadata": {},
   "source": [
    "### Basic"
   ]
  },
  {
   "cell_type": "code",
   "execution_count": null,
   "metadata": {},
   "outputs": [],
   "source": [
    "web_media_df = edge_check_column(posts_df, 'edge_web_media_to_related_media')"
   ]
  },
  {
   "cell_type": "markdown",
   "metadata": {},
   "source": [
    "### Depth"
   ]
  },
  {
   "cell_type": "markdown",
   "metadata": {},
   "source": [
    "### Delete"
   ]
  },
  {
   "cell_type": "code",
   "execution_count": null,
   "metadata": {},
   "outputs": [],
   "source": [
    "del web_media_df"
   ]
  },
  {
   "cell_type": "markdown",
   "metadata": {},
   "source": [
    "## edge_media_preview_comment"
   ]
  },
  {
   "cell_type": "markdown",
   "metadata": {},
   "source": [
    "### Basic"
   ]
  },
  {
   "cell_type": "code",
   "execution_count": null,
   "metadata": {},
   "outputs": [],
   "source": [
    "media_preview_df = edge_check_column(posts_df, 'edge_media_preview_comment')"
   ]
  },
  {
   "cell_type": "markdown",
   "metadata": {},
   "source": [
    "### Depth"
   ]
  },
  {
   "cell_type": "markdown",
   "metadata": {},
   "source": [
    "### Delete"
   ]
  },
  {
   "cell_type": "code",
   "execution_count": null,
   "metadata": {},
   "outputs": [],
   "source": [
    "del media_preview_df"
   ]
  },
  {
   "cell_type": "markdown",
   "metadata": {},
   "source": [
    "## comments_disabled"
   ]
  },
  {
   "cell_type": "code",
   "execution_count": null,
   "metadata": {},
   "outputs": [],
   "source": [
    "simple_check_column(posts_df, 'comments_disabled')"
   ]
  },
  {
   "cell_type": "code",
   "execution_count": null,
   "metadata": {},
   "outputs": [],
   "source": [
    "percentage_true = (posts_df['comments_disabled'] == True).mean() * 100\n",
    "print(f'Comments disbled: {percentage_true:.2f}%')"
   ]
  },
  {
   "cell_type": "markdown",
   "metadata": {},
   "source": [
    "## edge_media_to_sponsor_user"
   ]
  },
  {
   "cell_type": "markdown",
   "metadata": {},
   "source": [
    "### Basic"
   ]
  },
  {
   "cell_type": "code",
   "execution_count": null,
   "metadata": {},
   "outputs": [],
   "source": [
    "media_sponsor_df = edge_check_column(posts_df, 'edge_media_to_sponsor_user')"
   ]
  },
  {
   "cell_type": "markdown",
   "metadata": {},
   "source": [
    "### Depth"
   ]
  },
  {
   "cell_type": "markdown",
   "metadata": {},
   "source": [
    "### Delete"
   ]
  },
  {
   "cell_type": "code",
   "execution_count": null,
   "metadata": {},
   "outputs": [],
   "source": [
    "del media_sponsor_df"
   ]
  },
  {
   "cell_type": "markdown",
   "metadata": {},
   "source": [
    "## accessibility_caption"
   ]
  },
  {
   "cell_type": "code",
   "execution_count": null,
   "metadata": {},
   "outputs": [],
   "source": [
    "simple_check_column(posts_df, 'accessibility_caption')"
   ]
  },
  {
   "cell_type": "code",
   "execution_count": null,
   "metadata": {},
   "outputs": [],
   "source": [
    "counts_dict = defaultdict(int)\n",
    "\n",
    "# Zlicz ilość wystąpień każdej unikalnej wartości\n",
    "for access_caption in posts_df['accessibility_caption']:\n",
    "    counts_dict[access_caption] += 1\n",
    "\n",
    "sorted_counts = sorted(counts_dict.items(), key=lambda item: item[1], reverse=True)\n",
    "top_captions = dict(sorted_counts[:30])\n",
    "rare_captions = dict(sorted_counts[-20:])"
   ]
  },
  {
   "cell_type": "code",
   "execution_count": null,
   "metadata": {},
   "outputs": [],
   "source": [
    "\n",
    "fig = px.bar(x=top_captions.keys(), y=top_captions.values(),\n",
    "             labels={'x': 'Accessibilty caption', 'y': 'Count'},\n",
    "             title='Top Accessibilty caption')\n",
    "\n",
    "# Wyświetl wykres\n",
    "fig.show()"
   ]
  },
  {
   "cell_type": "code",
   "execution_count": null,
   "metadata": {},
   "outputs": [],
   "source": [
    "\n",
    "fig = px.bar(x=rare_captions.keys(), y=rare_captions.values(),\n",
    "             labels={'x': 'Accessibilty caption', 'y': 'Count'},\n",
    "             title='Top rarest Accessibilty caption')\n",
    "\n",
    "# Wyświetl wykres\n",
    "fig.show()"
   ]
  },
  {
   "cell_type": "code",
   "execution_count": null,
   "metadata": {},
   "outputs": [],
   "source": [
    "[x for x in posts_df['accessibility_caption'].unique() if str(x)[:5] != 'Image']"
   ]
  },
  {
   "cell_type": "markdown",
   "metadata": {},
   "source": [
    "## is_video"
   ]
  },
  {
   "cell_type": "code",
   "execution_count": null,
   "metadata": {},
   "outputs": [],
   "source": [
    "simple_check_column(posts_df, 'is_video')"
   ]
  },
  {
   "cell_type": "markdown",
   "metadata": {},
   "source": [
    "## edge_media_to_comment"
   ]
  },
  {
   "cell_type": "markdown",
   "metadata": {},
   "source": [
    "### Basic"
   ]
  },
  {
   "cell_type": "code",
   "execution_count": null,
   "metadata": {},
   "outputs": [],
   "source": [
    "media_comment_df = edge_check_column(posts_df, 'edge_media_to_comment')"
   ]
  },
  {
   "cell_type": "markdown",
   "metadata": {},
   "source": [
    "### Depth"
   ]
  },
  {
   "cell_type": "markdown",
   "metadata": {},
   "source": [
    "### Delete"
   ]
  },
  {
   "cell_type": "code",
   "execution_count": null,
   "metadata": {},
   "outputs": [],
   "source": [
    "del media_comment_df"
   ]
  },
  {
   "cell_type": "markdown",
   "metadata": {},
   "source": [
    "## edge_sidecar_to_children"
   ]
  },
  {
   "cell_type": "markdown",
   "metadata": {},
   "source": [
    "### Basic"
   ]
  },
  {
   "cell_type": "code",
   "execution_count": null,
   "metadata": {},
   "outputs": [],
   "source": [
    "sidecar_children_df = edge_check_column(posts_df, 'edge_sidecar_to_children')"
   ]
  },
  {
   "cell_type": "markdown",
   "metadata": {},
   "source": [
    "### Depth"
   ]
  },
  {
   "cell_type": "markdown",
   "metadata": {},
   "source": [
    "### Delete"
   ]
  },
  {
   "cell_type": "code",
   "execution_count": null,
   "metadata": {},
   "outputs": [],
   "source": [
    "del sidecar_children_df"
   ]
  },
  {
   "cell_type": "markdown",
   "metadata": {},
   "source": [
    "## fact_check_information"
   ]
  },
  {
   "cell_type": "code",
   "execution_count": null,
   "metadata": {},
   "outputs": [],
   "source": [
    "simple_check_column(posts_df, 'fact_check_information')"
   ]
  }
 ],
 "metadata": {
  "kernelspec": {
   "display_name": "abc",
   "language": "python",
   "name": "python3"
  },
  "language_info": {
   "codemirror_mode": {
    "name": "ipython",
    "version": 3
   },
   "file_extension": ".py",
   "mimetype": "text/x-python",
   "name": "python",
   "nbconvert_exporter": "python",
   "pygments_lexer": "ipython3",
   "version": "3.10.9"
  }
 },
 "nbformat": 4,
 "nbformat_minor": 2
}
