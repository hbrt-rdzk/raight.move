{
 "cells": [
  {
   "cell_type": "markdown",
   "metadata": {},
   "source": [
    "# Imports and utils"
   ]
  },
  {
   "cell_type": "code",
   "execution_count": null,
   "metadata": {},
   "outputs": [],
   "source": [
    "import os\n",
    "import pandas as pd\n",
    "import plotly.express as px\n",
    "import yaml"
   ]
  },
  {
   "cell_type": "code",
   "execution_count": null,
   "metadata": {},
   "outputs": [],
   "source": [
    "config_path = os.path.join('config.yaml')\n",
    "\n",
    "with open(config_path) as f:\n",
    "    cfg = yaml.load(f, Loader=yaml.FullLoader)\n",
    "    \n",
    "data_path = cfg['path_influencers']\n",
    "categories = cfg['image_categories']"
   ]
  },
  {
   "cell_type": "markdown",
   "metadata": {},
   "source": [
    "# Read data"
   ]
  },
  {
   "cell_type": "code",
   "execution_count": null,
   "metadata": {},
   "outputs": [],
   "source": [
    "df = pd.read_csv(data_path, delimiter='\\t', header=0, skiprows=[1])"
   ]
  },
  {
   "cell_type": "markdown",
   "metadata": {},
   "source": [
    "# Basic info"
   ]
  },
  {
   "cell_type": "code",
   "execution_count": null,
   "metadata": {},
   "outputs": [],
   "source": [
    "df.head()"
   ]
  },
  {
   "cell_type": "code",
   "execution_count": null,
   "metadata": {},
   "outputs": [],
   "source": [
    "df.info()"
   ]
  },
  {
   "cell_type": "code",
   "execution_count": null,
   "metadata": {},
   "outputs": [],
   "source": [
    "df.describe()"
   ]
  },
  {
   "cell_type": "code",
   "execution_count": null,
   "metadata": {},
   "outputs": [],
   "source": [
    "fig1 = px.histogram(df, x='#Posts', title='Rozkład #Posts')\n",
    "fig2 = px.histogram(df, x='#Followers', title='Rozkład #Followers')\n",
    "fig3 = px.histogram(df, x='#Followees', title='Rozkład #Followees')\n",
    "\n",
    "# Wyświetlanie wykresów\n",
    "fig1.show()\n",
    "fig2.show()\n",
    "fig3.show()"
   ]
  },
  {
   "cell_type": "code",
   "execution_count": null,
   "metadata": {},
   "outputs": [],
   "source": [
    "df.corr(numeric_only=True)"
   ]
  },
  {
   "cell_type": "code",
   "execution_count": null,
   "metadata": {},
   "outputs": [],
   "source": [
    "counts = df['Category'].value_counts().reset_index()\n",
    "counts.columns = ['Category', 'count']\n",
    "\n",
    "# Tworzenie wykresu barplot w Plotly\n",
    "fig = px.bar(counts, x='Category', y='count', title=\"Ilość wystąpień kategorii\")\n",
    "fig.show()"
   ]
  },
  {
   "cell_type": "code",
   "execution_count": null,
   "metadata": {},
   "outputs": [],
   "source": [
    "# ręczne sprawdzenie pokazało, że są to prawdziwe profile z błędną nazwą\n",
    "df[~df['Category'].isin(categories)]\n"
   ]
  },
  {
   "cell_type": "code",
   "execution_count": null,
   "metadata": {},
   "outputs": [],
   "source": [
    "df = df[df['Category'].isin(categories)]"
   ]
  },
  {
   "cell_type": "code",
   "execution_count": null,
   "metadata": {},
   "outputs": [],
   "source": [
    "# Top 5 kont z największą ilością #Posts\n",
    "top_posts = df.nlargest(5, '#Posts')\n",
    "print(\"Top 5 kont z największą ilością #Posts:\")\n",
    "print(top_posts)\n",
    "\n"
   ]
  },
  {
   "cell_type": "code",
   "execution_count": null,
   "metadata": {},
   "outputs": [],
   "source": [
    "# Top 5 kont z największą ilością #Followers\n",
    "top_followers = df.nlargest(5, '#Followers')\n",
    "print(\"\\nTop 5 kont z największą ilością #Followers:\")\n",
    "print(top_followers)"
   ]
  },
  {
   "cell_type": "code",
   "execution_count": null,
   "metadata": {},
   "outputs": [],
   "source": [
    "# Top 5 kont z największą ilością #Followees\n",
    "top_followees = df.nlargest(5, '#Followees')\n",
    "print(\"\\nTop 5 kont z największą ilością #Followees:\")\n",
    "print(top_followees)"
   ]
  },
  {
   "cell_type": "code",
   "execution_count": null,
   "metadata": {},
   "outputs": [],
   "source": [
    "fig = px.box(df, x='Category', y='#Posts', title='Rozkład libczy postów u influencerów przypisanych do kategorii')\n",
    "fig.show()"
   ]
  },
  {
   "cell_type": "code",
   "execution_count": null,
   "metadata": {},
   "outputs": [],
   "source": [
    "fig = px.box(df, x='Category', y='#Followers', title='Rozkład liczy Followers u influencerów przypisanych do kategorii')\n",
    "fig.show()"
   ]
  },
  {
   "cell_type": "code",
   "execution_count": null,
   "metadata": {},
   "outputs": [],
   "source": [
    "fig = px.box(df, x='Category', y='#Followees', title='Rozkład liczby Followees u influencerów przypisanych do kategorii')\n",
    "fig.show()"
   ]
  },
  {
   "cell_type": "code",
   "execution_count": null,
   "metadata": {},
   "outputs": [],
   "source": [
    "correlations_posts_followers = {}\n",
    "correlations_posts_followees = {}\n",
    "correlations_followers_followees = {}\n",
    "\n",
    "for category in categories:\n",
    "    subset = df[df['Category'] == category]\n",
    "    corr_matrix = subset[['#Posts', '#Followers', '#Followees']].corr()\n",
    "    correlations_posts_followers[category] = corr_matrix.loc['#Posts', '#Followers']\n",
    "    correlations_posts_followees[category] = corr_matrix.loc['#Posts', '#Followees']\n",
    "    correlations_followers_followees[category] = corr_matrix.loc['#Followers', '#Followees']\n",
    "\n",
    "correlations_posts_followers = {k: v for k, v in sorted(correlations_posts_followers.items(), \n",
    "                                                        key=lambda item: item[1],\n",
    "                                                        reverse=True)}\n",
    "correlations_posts_followees = {k: v for k, v in sorted(correlations_posts_followees.items(), \n",
    "                                                        key=lambda item: item[1],\n",
    "                                                        reverse=True)}\n",
    "correlations_followers_followees = {k: v for k, v in sorted(correlations_followers_followees.items(), \n",
    "                                                            key=lambda item: item[1],\n",
    "                                                            reverse=True)}"
   ]
  },
  {
   "cell_type": "code",
   "execution_count": null,
   "metadata": {},
   "outputs": [],
   "source": [
    "print(\"Correlation between #Posts and #Followers\")\n",
    "for category, correlation in correlations_posts_followers.items():\n",
    "    print(f\"Category {category}: {correlation:.2f}\")"
   ]
  },
  {
   "cell_type": "code",
   "execution_count": null,
   "metadata": {},
   "outputs": [],
   "source": [
    "print(\"Correlation between #Posts and #Followees\")\n",
    "for category, correlation in correlations_posts_followees.items():\n",
    "    print(f\"Category {category}: {correlation:.2f}\")"
   ]
  },
  {
   "cell_type": "code",
   "execution_count": null,
   "metadata": {},
   "outputs": [],
   "source": [
    "print(\"Correlation between #Followers and #Followees\")\n",
    "for category, correlation in correlations_followers_followees.items():\n",
    "    print(f\"Category {category}: {correlation:.2f}\")"
   ]
  },
  {
   "cell_type": "code",
   "execution_count": null,
   "metadata": {},
   "outputs": [],
   "source": []
  }
 ],
 "metadata": {
  "kernelspec": {
   "display_name": "Studia",
   "language": "python",
   "name": "python3"
  },
  "language_info": {
   "codemirror_mode": {
    "name": "ipython",
    "version": 3
   },
   "file_extension": ".py",
   "mimetype": "text/x-python",
   "name": "python",
   "nbconvert_exporter": "python",
   "pygments_lexer": "ipython3",
   "version": "3.8.18"
  }
 },
 "nbformat": 4,
 "nbformat_minor": 2
}
