{
 "cells": [
  {
   "cell_type": "code",
   "execution_count": 14,
   "metadata": {},
   "outputs": [],
   "source": [
    "\n",
    "import cv2\n",
    "import matplotlib.pyplot as plt\n",
    "import json\n",
    "import numpy as np\n",
    "import yaml\n",
    "import os\n",
    "from tqdm import tqdm\n",
    "import pandas as pd\n",
    "from utils.visualizer import Visualizer\n",
    "from utils.keypoints_tools import *\n",
    "\n",
    "import pandas as pd"
   ]
  },
  {
   "cell_type": "code",
   "execution_count": 3,
   "metadata": {},
   "outputs": [],
   "source": [
    "config_path = os.path.join('config.yaml')\n",
    "\n",
    "with open(config_path) as f:\n",
    "    cfg = yaml.load(f, Loader=yaml.FullLoader)\n",
    "    \n",
    "path_keypoints_3d_1person = cfg['path_keypoints_3d_1person']\n",
    "connections_3d = cfg['human36_connections']\n",
    "useless_points_3d = cfg['human36_head_points']\n",
    "base_connestion_3d = cfg['human36_base_connestion']\n",
    "angles_3d = cfg['human36_angles']\n",
    "\n",
    "path_keypoints_2d_1person = cfg['path_keypoints_2d_1person']\n",
    "connections_2d = cfg['coco_connections']\n",
    "useless_points_2d = cfg['coco_head_points']\n",
    "base_connestion_2d = cfg['coco_base_connestion']\n",
    "angles_2d = cfg['coco_angles']\n",
    "\n",
    "images = cfg['path_image']"
   ]
  },
  {
   "cell_type": "code",
   "execution_count": 5,
   "metadata": {},
   "outputs": [
    {
     "name": "stderr",
     "output_type": "stream",
     "text": [
      "Wczytywanie plików .info: 100%|█████████████████████████████████████████████████████████████████████████████████████████████████████████████████████████████████████████████████| 55746/55746 [05:05<00:00, 182.47it/s]\n"
     ]
    }
   ],
   "source": [
    "data_list = []\n",
    "for filename in tqdm(os.listdir(path_keypoints_3d_1person), desc=\"Wczytywanie plików .info\"):\n",
    "    if filename.endswith('.info'):\n",
    "        file_path = os.path.join(path_keypoints_3d_1person, filename)\n",
    "\n",
    "        # Wczytanie pliku JSON i dodanie do listy\n",
    "        with open(file_path, 'r', encoding='utf-8') as file:\n",
    "            json_data = json.load(file)[0]\n",
    "            \n",
    "            json_data['filename'] = filename[:-5]\n",
    "        \n",
    "        # Dodanie słownika do listy\n",
    "        data_list.append(json_data)\n",
    "\n",
    "# Utworzenie DataFrame z listy słowników\n",
    "keypoints_df_3d = pd.DataFrame(data_list)\n",
    "\n",
    "# czy to pomaga w notebookach?\n",
    "del data_list"
   ]
  },
  {
   "cell_type": "code",
   "execution_count": 6,
   "metadata": {},
   "outputs": [
    {
     "name": "stderr",
     "output_type": "stream",
     "text": [
      "Wczytywanie plików .info: 100%|█████████████████████████████████████████████████████████████████████████████████████████████████████████████████████████████████████████████████| 55746/55746 [05:07<00:00, 181.05it/s]\n"
     ]
    }
   ],
   "source": [
    "data_list = []\n",
    "for filename in tqdm(os.listdir(path_keypoints_2d_1person), desc=\"Wczytywanie plików .info\"):\n",
    "    if filename.endswith('.info'):\n",
    "        file_path = os.path.join(path_keypoints_2d_1person, filename)\n",
    "\n",
    "        # Wczytanie pliku JSON i dodanie do listy\n",
    "        with open(file_path, 'r', encoding='utf-8') as file:\n",
    "            json_data = json.load(file)[0]\n",
    "            \n",
    "            json_data['filename'] = filename[:-5]\n",
    "        \n",
    "        # Dodanie słownika do listy\n",
    "        data_list.append(json_data)\n",
    "\n",
    "# Utworzenie DataFrame z listy słowników\n",
    "keypoints_df_2d = pd.DataFrame(data_list)\n",
    "\n",
    "# czy to pomaga w notebookach?\n",
    "del data_list"
   ]
  },
  {
   "cell_type": "code",
   "execution_count": 15,
   "metadata": {},
   "outputs": [],
   "source": [
    "#keypoints_df_clear = delete_Points(keypoints_df, useless_points)\n",
    "add_lenghts(keypoints_df_3d, connections_3d, useless_points=useless_points_3d)\n",
    "add_relative_lenghts(keypoints_df_3d, base_connestion_3d)\n",
    "std_column(keypoints_df_3d, 'relative_lengths', 'relative_lengths_std')\n",
    "add_angles(keypoints_df_3d, angles_3d, three_dim=True)\n",
    "add_variant_angle(keypoints_df_3d, connections_3d, three_dim=True)\n",
    "std_column(keypoints_df_3d, 'variant_angles', 'variant_angles_std')\n",
    "std_column(keypoints_df_3d, 'angles', 'angles_std')"
   ]
  },
  {
   "cell_type": "code",
   "execution_count": 20,
   "metadata": {},
   "outputs": [],
   "source": [
    "#keypoints_df_clear = delete_Points(keypoints_df, useless_points)\n",
    "add_lenghts(keypoints_df_2d, connections_2d, useless_points=useless_points_2d)\n",
    "add_relative_lenghts(keypoints_df_2d, base_connestion_2d)\n",
    "std_column(keypoints_df_2d, 'relative_lengths', 'relative_lengths_std')\n",
    "add_angles(keypoints_df_2d, angles_2d, three_dim=False)\n",
    "add_variant_angle(keypoints_df_2d, connections_2d, three_dim=False)\n",
    "std_column(keypoints_df_2d, 'variant_angles', 'variant_angles_std')\n",
    "std_column(keypoints_df_2d, 'angles', 'angles_std')"
   ]
  },
  {
   "cell_type": "code",
   "execution_count": 116,
   "metadata": {},
   "outputs": [],
   "source": [
    "joints_2d = np.array([\n",
    "      [\n",
    "        105.5,\n",
    "        41.66666793823242\n",
    "      ],\n",
    "      [\n",
    "        113.0,\n",
    "        35.833335876464844\n",
    "      ],\n",
    "      [\n",
    "        100.5,\n",
    "        35.000003814697266\n",
    "      ],\n",
    "      [\n",
    "        122.16666412353516,\n",
    "        39.16666793823242\n",
    "      ],\n",
    "      [\n",
    "        93.83333587646484,\n",
    "        39.16666793823242\n",
    "      ],\n",
    "      [\n",
    "        129.6666717529297,\n",
    "        75.0\n",
    "      ],\n",
    "      [\n",
    "        78.83333587646484,\n",
    "        73.33333587646484\n",
    "      ],\n",
    "      [\n",
    "        135.5,\n",
    "        119.16666412353516\n",
    "      ],\n",
    "      [\n",
    "        73.0,\n",
    "        119.16666412353516\n",
    "      ],\n",
    "      [\n",
    "        144.6666717529297,\n",
    "        152.5\n",
    "      ],\n",
    "      [\n",
    "        84.66666412353516,\n",
    "        151.6666717529297\n",
    "      ],\n",
    "      [\n",
    "        126.33333587646484,\n",
    "        158.3333282470703\n",
    "      ],\n",
    "      [\n",
    "        100.5,\n",
    "        160.8333282470703\n",
    "      ],\n",
    "      [\n",
    "        126.33333587646484,\n",
    "        211.6666717529297\n",
    "      ],\n",
    "      [\n",
    "        90.5,\n",
    "        222.5\n",
    "      ],\n",
    "      [\n",
    "        126.33333587646484,\n",
    "        248.3333282470703\n",
    "      ],\n",
    "      [\n",
    "        77.16666412353516,\n",
    "        277.5\n",
    "      ]\n",
    "    ])\n",
    "\n",
    "joints_3d = np.array([\n",
    "      [\n",
    "        -0.0,\n",
    "        0.0,\n",
    "        0.23181414604187012\n",
    "      ],\n",
    "      [\n",
    "        -0.04466332867741585,\n",
    "        0.01199584361165762,\n",
    "        0.1614789366722107\n",
    "      ],\n",
    "      [\n",
    "        0.024898437783122063,\n",
    "        0.033169087022542953,\n",
    "        0.06397625803947449\n",
    "      ],\n",
    "      [\n",
    "        0.08393289148807526,\n",
    "        0.03874387964606285,\n",
    "        0.0\n",
    "      ],\n",
    "      [\n",
    "        -0.05939697101712227,\n",
    "        0.022309595718979836,\n",
    "        0.19247734546661377\n",
    "      ],\n",
    "      [\n",
    "        -0.010054809972643852,\n",
    "        0.042652029544115067,\n",
    "        0.10978735238313675\n",
    "      ],\n",
    "      [\n",
    "        0.02084164507687092,\n",
    "        0.05410129576921463,\n",
    "        0.0663674920797348\n",
    "      ],\n",
    "      [\n",
    "        -0.09663104265928268,\n",
    "        -0.0016001098556444049,\n",
    "        0.23674999177455902\n",
    "      ],\n",
    "      [\n",
    "        -0.15801171958446503,\n",
    "        -0.03131557255983353,\n",
    "        0.31988322734832764\n",
    "      ],\n",
    "      [\n",
    "        -0.2021072953939438,\n",
    "        -0.04591451957821846,\n",
    "        0.4057765007019043\n",
    "      ],\n",
    "      [\n",
    "        -0.2108115255832672,\n",
    "        -0.050296615809202194,\n",
    "        0.42958948016166687\n",
    "      ],\n",
    "      [\n",
    "        -0.16123425960540771,\n",
    "        -0.02245243452489376,\n",
    "        0.3449513018131256\n",
    "      ],\n",
    "      [\n",
    "        -0.11519250273704529,\n",
    "        0.004402334801852703,\n",
    "        0.2638933062553406\n",
    "      ],\n",
    "      [\n",
    "        -0.07868963479995728,\n",
    "        0.01684361882507801,\n",
    "        0.20908783376216888\n",
    "      ],\n",
    "      [\n",
    "        -0.15450336039066315,\n",
    "        -0.04250151664018631,\n",
    "        0.29146796464920044\n",
    "      ],\n",
    "      [\n",
    "        -0.09001006931066513,\n",
    "        -0.020688094198703766,\n",
    "        0.18451403081417084\n",
    "      ],\n",
    "      [\n",
    "        -0.054342836141586304,\n",
    "        -0.006574948318302631,\n",
    "        0.13859733939170837\n",
    "      ]]\n",
    ")"
   ]
  },
  {
   "cell_type": "code",
   "execution_count": 121,
   "metadata": {},
   "outputs": [],
   "source": [
    "photo_id = 1000\n",
    "img_path = f'{images}/{keypoints_df.iloc[photo_id].filename[:-8]}.jpg'\n",
    "image = cv2.imread(img_path)\n",
    "abba = Visualizer(image, joints_2d, np.array(keypoints_df.iloc[photo_id].keypoints), cfg)\n",
    "plt.subplots(1, 1, figsize=(10,10))[1].imshow(image[..., ::-1]);"
   ]
  },
  {
   "cell_type": "code",
   "execution_count": 123,
   "metadata": {},
   "outputs": [],
   "source": [
    "config_path = os.path.join('./configs/config.yaml')\n",
    "\n",
    "with open(config_path) as f:\n",
    "    cfg = yaml.load(f, Loader=yaml.FullLoader)"
   ]
  },
  {
   "cell_type": "code",
   "execution_count": 124,
   "metadata": {},
   "outputs": [
    {
     "data": {
      "application/vnd.plotly.v1+json": {
       "config": {
        "plotlyServerURL": "https://plot.ly"
       },
       "data": [
        {
         "hovertemplate": "x=%{x}<br>y=%{y}<br>z=%{z}<br>text=%{text}<extra></extra>",
         "legendgroup": "",
         "marker": {
          "color": "#636efa",
          "symbol": "circle"
         },
         "mode": "markers+text",
         "name": "",
         "scene": "scene",
         "showlegend": false,
         "text": [
          "LOWER_SPINE",
          "RIGHT_HIP",
          "RIGHT_KNEE",
          "RIGHT_FOOT",
          "LEFT_HIP",
          "LEFT_KNEE",
          "LEFT_FOOT",
          "UPPER_SPINE",
          "THROAT",
          "NOSE",
          "FORHEAD",
          "LEFT_SHOULDER",
          "LEFT_ELBOW",
          "LEFT_HAND",
          "RIGHT_SHOULDER",
          "RIGHT_ELBOW",
          "RIGHT_HAND"
         ],
         "type": "scatter3d",
         "x": [
          0,
          -0.04269690066576004,
          0.024567505344748497,
          0.07847781479358673,
          -0.05597009137272835,
          0.012072754092514515,
          0.06527609378099442,
          -0.09595043957233429,
          -0.1573466807603836,
          -0.1970767229795456,
          -0.20299841463565826,
          -0.15933789312839508,
          -0.1179366484284401,
          -0.08496655523777008,
          -0.1541558802127838,
          -0.09762664884328842,
          -0.16603906452655792
         ],
         "y": [
          0,
          0.010881416499614716,
          0.03577101230621338,
          0.044626738876104355,
          0.022354792803525925,
          0.046669114381074905,
          0.05330651253461838,
          -0.002778245834633708,
          -0.032874420285224915,
          -0.047681160271167755,
          -0.05187103897333145,
          -0.023063190281391144,
          0.004064059350639582,
          0.015286510810256004,
          -0.044051643460989,
          -0.02411261759698391,
          -0.04550538957118988
         ],
         "z": [
          0.2355991154909134,
          0.14642906188964844,
          0.05305394530296326,
          0,
          0.1813579648733139,
          0.07282067835330963,
          0.012254878878593445,
          0.2340000569820404,
          0.329386830329895,
          0.41470715403556824,
          0.430857390165329,
          0.3581487536430359,
          0.2766003906726837,
          0.2153150588274002,
          0.29810765385627747,
          0.1897842288017273,
          0.2782483994960785
         ]
        },
        {
         "line": {
          "color": "blue",
          "width": 2
         },
         "mode": "lines",
         "type": "scatter3d",
         "x": [
          0,
          -0.04269690066576004
         ],
         "y": [
          0,
          0.010881416499614716
         ],
         "z": [
          0.2355991154909134,
          0.14642906188964844
         ]
        },
        {
         "line": {
          "color": "blue",
          "width": 2
         },
         "mode": "lines",
         "type": "scatter3d",
         "x": [
          -0.04269690066576004,
          0.024567505344748497
         ],
         "y": [
          0.010881416499614716,
          0.03577101230621338
         ],
         "z": [
          0.14642906188964844,
          0.05305394530296326
         ]
        },
        {
         "line": {
          "color": "blue",
          "width": 2
         },
         "mode": "lines",
         "type": "scatter3d",
         "x": [
          0.024567505344748497,
          0.07847781479358673
         ],
         "y": [
          0.03577101230621338,
          0.044626738876104355
         ],
         "z": [
          0.05305394530296326,
          0
         ]
        },
        {
         "line": {
          "color": "blue",
          "width": 2
         },
         "mode": "lines",
         "type": "scatter3d",
         "x": [
          0,
          -0.05597009137272835
         ],
         "y": [
          0,
          0.022354792803525925
         ],
         "z": [
          0.2355991154909134,
          0.1813579648733139
         ]
        },
        {
         "line": {
          "color": "blue",
          "width": 2
         },
         "mode": "lines",
         "type": "scatter3d",
         "x": [
          -0.05597009137272835,
          0.012072754092514515
         ],
         "y": [
          0.022354792803525925,
          0.046669114381074905
         ],
         "z": [
          0.1813579648733139,
          0.07282067835330963
         ]
        },
        {
         "line": {
          "color": "blue",
          "width": 2
         },
         "mode": "lines",
         "type": "scatter3d",
         "x": [
          0.012072754092514515,
          0.06527609378099442
         ],
         "y": [
          0.046669114381074905,
          0.05330651253461838
         ],
         "z": [
          0.07282067835330963,
          0.012254878878593445
         ]
        },
        {
         "line": {
          "color": "blue",
          "width": 2
         },
         "mode": "lines",
         "type": "scatter3d",
         "x": [
          0,
          -0.09595043957233429
         ],
         "y": [
          0,
          -0.002778245834633708
         ],
         "z": [
          0.2355991154909134,
          0.2340000569820404
         ]
        },
        {
         "line": {
          "color": "blue",
          "width": 2
         },
         "mode": "lines",
         "type": "scatter3d",
         "x": [
          -0.09595043957233429,
          -0.1573466807603836
         ],
         "y": [
          -0.002778245834633708,
          -0.032874420285224915
         ],
         "z": [
          0.2340000569820404,
          0.329386830329895
         ]
        },
        {
         "line": {
          "color": "blue",
          "width": 2
         },
         "mode": "lines",
         "type": "scatter3d",
         "x": [
          -0.1573466807603836,
          -0.15933789312839508
         ],
         "y": [
          -0.032874420285224915,
          -0.023063190281391144
         ],
         "z": [
          0.329386830329895,
          0.3581487536430359
         ]
        },
        {
         "line": {
          "color": "blue",
          "width": 2
         },
         "mode": "lines",
         "type": "scatter3d",
         "x": [
          -0.15933789312839508,
          -0.1179366484284401
         ],
         "y": [
          -0.023063190281391144,
          0.004064059350639582
         ],
         "z": [
          0.3581487536430359,
          0.2766003906726837
         ]
        },
        {
         "line": {
          "color": "blue",
          "width": 2
         },
         "mode": "lines",
         "type": "scatter3d",
         "x": [
          -0.1179366484284401,
          -0.08496655523777008
         ],
         "y": [
          0.004064059350639582,
          0.015286510810256004
         ],
         "z": [
          0.2766003906726837,
          0.2153150588274002
         ]
        },
        {
         "line": {
          "color": "blue",
          "width": 2
         },
         "mode": "lines",
         "type": "scatter3d",
         "x": [
          -0.1573466807603836,
          -0.1541558802127838
         ],
         "y": [
          -0.032874420285224915,
          -0.044051643460989
         ],
         "z": [
          0.329386830329895,
          0.29810765385627747
         ]
        },
        {
         "line": {
          "color": "blue",
          "width": 2
         },
         "mode": "lines",
         "type": "scatter3d",
         "x": [
          -0.1541558802127838,
          -0.09762664884328842
         ],
         "y": [
          -0.044051643460989,
          -0.02411261759698391
         ],
         "z": [
          0.29810765385627747,
          0.1897842288017273
         ]
        },
        {
         "line": {
          "color": "blue",
          "width": 2
         },
         "mode": "lines",
         "type": "scatter3d",
         "x": [
          -0.09762664884328842,
          -0.16603906452655792
         ],
         "y": [
          -0.02411261759698391,
          -0.04550538957118988
         ],
         "z": [
          0.1897842288017273,
          0.2782483994960785
         ]
        },
        {
         "line": {
          "color": "blue",
          "width": 2
         },
         "mode": "lines",
         "type": "scatter3d",
         "x": [
          -0.1573466807603836,
          -0.1970767229795456
         ],
         "y": [
          -0.032874420285224915,
          -0.047681160271167755
         ],
         "z": [
          0.329386830329895,
          0.41470715403556824
         ]
        },
        {
         "line": {
          "color": "blue",
          "width": 2
         },
         "mode": "lines",
         "type": "scatter3d",
         "x": [
          -0.1970767229795456,
          -0.20299841463565826
         ],
         "y": [
          -0.047681160271167755,
          -0.05187103897333145
         ],
         "z": [
          0.41470715403556824,
          0.430857390165329
         ]
        }
       ],
       "layout": {
        "height": 800,
        "legend": {
         "tracegroupgap": 0
        },
        "margin": {
         "t": 60
        },
        "scene": {
         "domain": {
          "x": [
           0,
           1
          ],
          "y": [
           0,
           1
          ]
         },
         "xaxis": {
          "range": [
           -0.21299841463565827,
           0.08847781479358673
          ],
          "title": {
           "text": "x"
          }
         },
         "yaxis": {
          "range": [
           -0.06187103897333145,
           0.06330651253461837
          ],
          "title": {
           "text": "y"
          }
         },
         "zaxis": {
          "range": [
           -0.01,
           0.440857390165329
          ],
          "title": {
           "text": "z"
          }
         }
        },
        "showlegend": false,
        "template": {
         "data": {
          "bar": [
           {
            "error_x": {
             "color": "#2a3f5f"
            },
            "error_y": {
             "color": "#2a3f5f"
            },
            "marker": {
             "line": {
              "color": "#E5ECF6",
              "width": 0.5
             },
             "pattern": {
              "fillmode": "overlay",
              "size": 10,
              "solidity": 0.2
             }
            },
            "type": "bar"
           }
          ],
          "barpolar": [
           {
            "marker": {
             "line": {
              "color": "#E5ECF6",
              "width": 0.5
             },
             "pattern": {
              "fillmode": "overlay",
              "size": 10,
              "solidity": 0.2
             }
            },
            "type": "barpolar"
           }
          ],
          "carpet": [
           {
            "aaxis": {
             "endlinecolor": "#2a3f5f",
             "gridcolor": "white",
             "linecolor": "white",
             "minorgridcolor": "white",
             "startlinecolor": "#2a3f5f"
            },
            "baxis": {
             "endlinecolor": "#2a3f5f",
             "gridcolor": "white",
             "linecolor": "white",
             "minorgridcolor": "white",
             "startlinecolor": "#2a3f5f"
            },
            "type": "carpet"
           }
          ],
          "choropleth": [
           {
            "colorbar": {
             "outlinewidth": 0,
             "ticks": ""
            },
            "type": "choropleth"
           }
          ],
          "contour": [
           {
            "colorbar": {
             "outlinewidth": 0,
             "ticks": ""
            },
            "colorscale": [
             [
              0,
              "#0d0887"
             ],
             [
              0.1111111111111111,
              "#46039f"
             ],
             [
              0.2222222222222222,
              "#7201a8"
             ],
             [
              0.3333333333333333,
              "#9c179e"
             ],
             [
              0.4444444444444444,
              "#bd3786"
             ],
             [
              0.5555555555555556,
              "#d8576b"
             ],
             [
              0.6666666666666666,
              "#ed7953"
             ],
             [
              0.7777777777777778,
              "#fb9f3a"
             ],
             [
              0.8888888888888888,
              "#fdca26"
             ],
             [
              1,
              "#f0f921"
             ]
            ],
            "type": "contour"
           }
          ],
          "contourcarpet": [
           {
            "colorbar": {
             "outlinewidth": 0,
             "ticks": ""
            },
            "type": "contourcarpet"
           }
          ],
          "heatmap": [
           {
            "colorbar": {
             "outlinewidth": 0,
             "ticks": ""
            },
            "colorscale": [
             [
              0,
              "#0d0887"
             ],
             [
              0.1111111111111111,
              "#46039f"
             ],
             [
              0.2222222222222222,
              "#7201a8"
             ],
             [
              0.3333333333333333,
              "#9c179e"
             ],
             [
              0.4444444444444444,
              "#bd3786"
             ],
             [
              0.5555555555555556,
              "#d8576b"
             ],
             [
              0.6666666666666666,
              "#ed7953"
             ],
             [
              0.7777777777777778,
              "#fb9f3a"
             ],
             [
              0.8888888888888888,
              "#fdca26"
             ],
             [
              1,
              "#f0f921"
             ]
            ],
            "type": "heatmap"
           }
          ],
          "heatmapgl": [
           {
            "colorbar": {
             "outlinewidth": 0,
             "ticks": ""
            },
            "colorscale": [
             [
              0,
              "#0d0887"
             ],
             [
              0.1111111111111111,
              "#46039f"
             ],
             [
              0.2222222222222222,
              "#7201a8"
             ],
             [
              0.3333333333333333,
              "#9c179e"
             ],
             [
              0.4444444444444444,
              "#bd3786"
             ],
             [
              0.5555555555555556,
              "#d8576b"
             ],
             [
              0.6666666666666666,
              "#ed7953"
             ],
             [
              0.7777777777777778,
              "#fb9f3a"
             ],
             [
              0.8888888888888888,
              "#fdca26"
             ],
             [
              1,
              "#f0f921"
             ]
            ],
            "type": "heatmapgl"
           }
          ],
          "histogram": [
           {
            "marker": {
             "pattern": {
              "fillmode": "overlay",
              "size": 10,
              "solidity": 0.2
             }
            },
            "type": "histogram"
           }
          ],
          "histogram2d": [
           {
            "colorbar": {
             "outlinewidth": 0,
             "ticks": ""
            },
            "colorscale": [
             [
              0,
              "#0d0887"
             ],
             [
              0.1111111111111111,
              "#46039f"
             ],
             [
              0.2222222222222222,
              "#7201a8"
             ],
             [
              0.3333333333333333,
              "#9c179e"
             ],
             [
              0.4444444444444444,
              "#bd3786"
             ],
             [
              0.5555555555555556,
              "#d8576b"
             ],
             [
              0.6666666666666666,
              "#ed7953"
             ],
             [
              0.7777777777777778,
              "#fb9f3a"
             ],
             [
              0.8888888888888888,
              "#fdca26"
             ],
             [
              1,
              "#f0f921"
             ]
            ],
            "type": "histogram2d"
           }
          ],
          "histogram2dcontour": [
           {
            "colorbar": {
             "outlinewidth": 0,
             "ticks": ""
            },
            "colorscale": [
             [
              0,
              "#0d0887"
             ],
             [
              0.1111111111111111,
              "#46039f"
             ],
             [
              0.2222222222222222,
              "#7201a8"
             ],
             [
              0.3333333333333333,
              "#9c179e"
             ],
             [
              0.4444444444444444,
              "#bd3786"
             ],
             [
              0.5555555555555556,
              "#d8576b"
             ],
             [
              0.6666666666666666,
              "#ed7953"
             ],
             [
              0.7777777777777778,
              "#fb9f3a"
             ],
             [
              0.8888888888888888,
              "#fdca26"
             ],
             [
              1,
              "#f0f921"
             ]
            ],
            "type": "histogram2dcontour"
           }
          ],
          "mesh3d": [
           {
            "colorbar": {
             "outlinewidth": 0,
             "ticks": ""
            },
            "type": "mesh3d"
           }
          ],
          "parcoords": [
           {
            "line": {
             "colorbar": {
              "outlinewidth": 0,
              "ticks": ""
             }
            },
            "type": "parcoords"
           }
          ],
          "pie": [
           {
            "automargin": true,
            "type": "pie"
           }
          ],
          "scatter": [
           {
            "fillpattern": {
             "fillmode": "overlay",
             "size": 10,
             "solidity": 0.2
            },
            "type": "scatter"
           }
          ],
          "scatter3d": [
           {
            "line": {
             "colorbar": {
              "outlinewidth": 0,
              "ticks": ""
             }
            },
            "marker": {
             "colorbar": {
              "outlinewidth": 0,
              "ticks": ""
             }
            },
            "type": "scatter3d"
           }
          ],
          "scattercarpet": [
           {
            "marker": {
             "colorbar": {
              "outlinewidth": 0,
              "ticks": ""
             }
            },
            "type": "scattercarpet"
           }
          ],
          "scattergeo": [
           {
            "marker": {
             "colorbar": {
              "outlinewidth": 0,
              "ticks": ""
             }
            },
            "type": "scattergeo"
           }
          ],
          "scattergl": [
           {
            "marker": {
             "colorbar": {
              "outlinewidth": 0,
              "ticks": ""
             }
            },
            "type": "scattergl"
           }
          ],
          "scattermapbox": [
           {
            "marker": {
             "colorbar": {
              "outlinewidth": 0,
              "ticks": ""
             }
            },
            "type": "scattermapbox"
           }
          ],
          "scatterpolar": [
           {
            "marker": {
             "colorbar": {
              "outlinewidth": 0,
              "ticks": ""
             }
            },
            "type": "scatterpolar"
           }
          ],
          "scatterpolargl": [
           {
            "marker": {
             "colorbar": {
              "outlinewidth": 0,
              "ticks": ""
             }
            },
            "type": "scatterpolargl"
           }
          ],
          "scatterternary": [
           {
            "marker": {
             "colorbar": {
              "outlinewidth": 0,
              "ticks": ""
             }
            },
            "type": "scatterternary"
           }
          ],
          "surface": [
           {
            "colorbar": {
             "outlinewidth": 0,
             "ticks": ""
            },
            "colorscale": [
             [
              0,
              "#0d0887"
             ],
             [
              0.1111111111111111,
              "#46039f"
             ],
             [
              0.2222222222222222,
              "#7201a8"
             ],
             [
              0.3333333333333333,
              "#9c179e"
             ],
             [
              0.4444444444444444,
              "#bd3786"
             ],
             [
              0.5555555555555556,
              "#d8576b"
             ],
             [
              0.6666666666666666,
              "#ed7953"
             ],
             [
              0.7777777777777778,
              "#fb9f3a"
             ],
             [
              0.8888888888888888,
              "#fdca26"
             ],
             [
              1,
              "#f0f921"
             ]
            ],
            "type": "surface"
           }
          ],
          "table": [
           {
            "cells": {
             "fill": {
              "color": "#EBF0F8"
             },
             "line": {
              "color": "white"
             }
            },
            "header": {
             "fill": {
              "color": "#C8D4E3"
             },
             "line": {
              "color": "white"
             }
            },
            "type": "table"
           }
          ]
         },
         "layout": {
          "annotationdefaults": {
           "arrowcolor": "#2a3f5f",
           "arrowhead": 0,
           "arrowwidth": 1
          },
          "autotypenumbers": "strict",
          "coloraxis": {
           "colorbar": {
            "outlinewidth": 0,
            "ticks": ""
           }
          },
          "colorscale": {
           "diverging": [
            [
             0,
             "#8e0152"
            ],
            [
             0.1,
             "#c51b7d"
            ],
            [
             0.2,
             "#de77ae"
            ],
            [
             0.3,
             "#f1b6da"
            ],
            [
             0.4,
             "#fde0ef"
            ],
            [
             0.5,
             "#f7f7f7"
            ],
            [
             0.6,
             "#e6f5d0"
            ],
            [
             0.7,
             "#b8e186"
            ],
            [
             0.8,
             "#7fbc41"
            ],
            [
             0.9,
             "#4d9221"
            ],
            [
             1,
             "#276419"
            ]
           ],
           "sequential": [
            [
             0,
             "#0d0887"
            ],
            [
             0.1111111111111111,
             "#46039f"
            ],
            [
             0.2222222222222222,
             "#7201a8"
            ],
            [
             0.3333333333333333,
             "#9c179e"
            ],
            [
             0.4444444444444444,
             "#bd3786"
            ],
            [
             0.5555555555555556,
             "#d8576b"
            ],
            [
             0.6666666666666666,
             "#ed7953"
            ],
            [
             0.7777777777777778,
             "#fb9f3a"
            ],
            [
             0.8888888888888888,
             "#fdca26"
            ],
            [
             1,
             "#f0f921"
            ]
           ],
           "sequentialminus": [
            [
             0,
             "#0d0887"
            ],
            [
             0.1111111111111111,
             "#46039f"
            ],
            [
             0.2222222222222222,
             "#7201a8"
            ],
            [
             0.3333333333333333,
             "#9c179e"
            ],
            [
             0.4444444444444444,
             "#bd3786"
            ],
            [
             0.5555555555555556,
             "#d8576b"
            ],
            [
             0.6666666666666666,
             "#ed7953"
            ],
            [
             0.7777777777777778,
             "#fb9f3a"
            ],
            [
             0.8888888888888888,
             "#fdca26"
            ],
            [
             1,
             "#f0f921"
            ]
           ]
          },
          "colorway": [
           "#636efa",
           "#EF553B",
           "#00cc96",
           "#ab63fa",
           "#FFA15A",
           "#19d3f3",
           "#FF6692",
           "#B6E880",
           "#FF97FF",
           "#FECB52"
          ],
          "font": {
           "color": "#2a3f5f"
          },
          "geo": {
           "bgcolor": "white",
           "lakecolor": "white",
           "landcolor": "#E5ECF6",
           "showlakes": true,
           "showland": true,
           "subunitcolor": "white"
          },
          "hoverlabel": {
           "align": "left"
          },
          "hovermode": "closest",
          "mapbox": {
           "style": "light"
          },
          "paper_bgcolor": "white",
          "plot_bgcolor": "#E5ECF6",
          "polar": {
           "angularaxis": {
            "gridcolor": "white",
            "linecolor": "white",
            "ticks": ""
           },
           "bgcolor": "#E5ECF6",
           "radialaxis": {
            "gridcolor": "white",
            "linecolor": "white",
            "ticks": ""
           }
          },
          "scene": {
           "xaxis": {
            "backgroundcolor": "#E5ECF6",
            "gridcolor": "white",
            "gridwidth": 2,
            "linecolor": "white",
            "showbackground": true,
            "ticks": "",
            "zerolinecolor": "white"
           },
           "yaxis": {
            "backgroundcolor": "#E5ECF6",
            "gridcolor": "white",
            "gridwidth": 2,
            "linecolor": "white",
            "showbackground": true,
            "ticks": "",
            "zerolinecolor": "white"
           },
           "zaxis": {
            "backgroundcolor": "#E5ECF6",
            "gridcolor": "white",
            "gridwidth": 2,
            "linecolor": "white",
            "showbackground": true,
            "ticks": "",
            "zerolinecolor": "white"
           }
          },
          "shapedefaults": {
           "line": {
            "color": "#2a3f5f"
           }
          },
          "ternary": {
           "aaxis": {
            "gridcolor": "white",
            "linecolor": "white",
            "ticks": ""
           },
           "baxis": {
            "gridcolor": "white",
            "linecolor": "white",
            "ticks": ""
           },
           "bgcolor": "#E5ECF6",
           "caxis": {
            "gridcolor": "white",
            "linecolor": "white",
            "ticks": ""
           }
          },
          "title": {
           "x": 0.05
          },
          "xaxis": {
           "automargin": true,
           "gridcolor": "white",
           "linecolor": "white",
           "ticks": "",
           "title": {
            "standoff": 15
           },
           "zerolinecolor": "white",
           "zerolinewidth": 2
          },
          "yaxis": {
           "automargin": true,
           "gridcolor": "white",
           "linecolor": "white",
           "ticks": "",
           "title": {
            "standoff": 15
           },
           "zerolinecolor": "white",
           "zerolinewidth": 2
          }
         }
        },
        "width": 800
       }
      },
      "text/html": [
       "<div>                            <div id=\"44b69a0f-63b5-4498-b622-0b4b339dea84\" class=\"plotly-graph-div\" style=\"height:800px; width:800px;\"></div>            <script type=\"text/javascript\">                require([\"plotly\"], function(Plotly) {                    window.PLOTLYENV=window.PLOTLYENV || {};                                    if (document.getElementById(\"44b69a0f-63b5-4498-b622-0b4b339dea84\")) {                    Plotly.newPlot(                        \"44b69a0f-63b5-4498-b622-0b4b339dea84\",                        [{\"hovertemplate\":\"x=%{x}\\u003cbr\\u003ey=%{y}\\u003cbr\\u003ez=%{z}\\u003cbr\\u003etext=%{text}\\u003cextra\\u003e\\u003c\\u002fextra\\u003e\",\"legendgroup\":\"\",\"marker\":{\"color\":\"#636efa\",\"symbol\":\"circle\"},\"mode\":\"markers+text\",\"name\":\"\",\"scene\":\"scene\",\"showlegend\":false,\"text\":[\"LOWER_SPINE\",\"RIGHT_HIP\",\"RIGHT_KNEE\",\"RIGHT_FOOT\",\"LEFT_HIP\",\"LEFT_KNEE\",\"LEFT_FOOT\",\"UPPER_SPINE\",\"THROAT\",\"NOSE\",\"FORHEAD\",\"LEFT_SHOULDER\",\"LEFT_ELBOW\",\"LEFT_HAND\",\"RIGHT_SHOULDER\",\"RIGHT_ELBOW\",\"RIGHT_HAND\"],\"x\":[-0.0,-0.04269690066576004,0.024567505344748497,0.07847781479358673,-0.05597009137272835,0.012072754092514515,0.06527609378099442,-0.09595043957233429,-0.1573466807603836,-0.1970767229795456,-0.20299841463565826,-0.15933789312839508,-0.1179366484284401,-0.08496655523777008,-0.1541558802127838,-0.09762664884328842,-0.16603906452655792],\"y\":[0.0,0.010881416499614716,0.03577101230621338,0.044626738876104355,0.022354792803525925,0.046669114381074905,0.05330651253461838,-0.002778245834633708,-0.032874420285224915,-0.047681160271167755,-0.05187103897333145,-0.023063190281391144,0.004064059350639582,0.015286510810256004,-0.044051643460989,-0.02411261759698391,-0.04550538957118988],\"z\":[0.2355991154909134,0.14642906188964844,0.05305394530296326,0.0,0.1813579648733139,0.07282067835330963,0.012254878878593445,0.2340000569820404,0.329386830329895,0.41470715403556824,0.430857390165329,0.3581487536430359,0.2766003906726837,0.2153150588274002,0.29810765385627747,0.1897842288017273,0.2782483994960785],\"type\":\"scatter3d\"},{\"line\":{\"color\":\"blue\",\"width\":2},\"mode\":\"lines\",\"x\":[-0.0,-0.04269690066576004],\"y\":[0.0,0.010881416499614716],\"z\":[0.2355991154909134,0.14642906188964844],\"type\":\"scatter3d\"},{\"line\":{\"color\":\"blue\",\"width\":2},\"mode\":\"lines\",\"x\":[-0.04269690066576004,0.024567505344748497],\"y\":[0.010881416499614716,0.03577101230621338],\"z\":[0.14642906188964844,0.05305394530296326],\"type\":\"scatter3d\"},{\"line\":{\"color\":\"blue\",\"width\":2},\"mode\":\"lines\",\"x\":[0.024567505344748497,0.07847781479358673],\"y\":[0.03577101230621338,0.044626738876104355],\"z\":[0.05305394530296326,0.0],\"type\":\"scatter3d\"},{\"line\":{\"color\":\"blue\",\"width\":2},\"mode\":\"lines\",\"x\":[-0.0,-0.05597009137272835],\"y\":[0.0,0.022354792803525925],\"z\":[0.2355991154909134,0.1813579648733139],\"type\":\"scatter3d\"},{\"line\":{\"color\":\"blue\",\"width\":2},\"mode\":\"lines\",\"x\":[-0.05597009137272835,0.012072754092514515],\"y\":[0.022354792803525925,0.046669114381074905],\"z\":[0.1813579648733139,0.07282067835330963],\"type\":\"scatter3d\"},{\"line\":{\"color\":\"blue\",\"width\":2},\"mode\":\"lines\",\"x\":[0.012072754092514515,0.06527609378099442],\"y\":[0.046669114381074905,0.05330651253461838],\"z\":[0.07282067835330963,0.012254878878593445],\"type\":\"scatter3d\"},{\"line\":{\"color\":\"blue\",\"width\":2},\"mode\":\"lines\",\"x\":[-0.0,-0.09595043957233429],\"y\":[0.0,-0.002778245834633708],\"z\":[0.2355991154909134,0.2340000569820404],\"type\":\"scatter3d\"},{\"line\":{\"color\":\"blue\",\"width\":2},\"mode\":\"lines\",\"x\":[-0.09595043957233429,-0.1573466807603836],\"y\":[-0.002778245834633708,-0.032874420285224915],\"z\":[0.2340000569820404,0.329386830329895],\"type\":\"scatter3d\"},{\"line\":{\"color\":\"blue\",\"width\":2},\"mode\":\"lines\",\"x\":[-0.1573466807603836,-0.15933789312839508],\"y\":[-0.032874420285224915,-0.023063190281391144],\"z\":[0.329386830329895,0.3581487536430359],\"type\":\"scatter3d\"},{\"line\":{\"color\":\"blue\",\"width\":2},\"mode\":\"lines\",\"x\":[-0.15933789312839508,-0.1179366484284401],\"y\":[-0.023063190281391144,0.004064059350639582],\"z\":[0.3581487536430359,0.2766003906726837],\"type\":\"scatter3d\"},{\"line\":{\"color\":\"blue\",\"width\":2},\"mode\":\"lines\",\"x\":[-0.1179366484284401,-0.08496655523777008],\"y\":[0.004064059350639582,0.015286510810256004],\"z\":[0.2766003906726837,0.2153150588274002],\"type\":\"scatter3d\"},{\"line\":{\"color\":\"blue\",\"width\":2},\"mode\":\"lines\",\"x\":[-0.1573466807603836,-0.1541558802127838],\"y\":[-0.032874420285224915,-0.044051643460989],\"z\":[0.329386830329895,0.29810765385627747],\"type\":\"scatter3d\"},{\"line\":{\"color\":\"blue\",\"width\":2},\"mode\":\"lines\",\"x\":[-0.1541558802127838,-0.09762664884328842],\"y\":[-0.044051643460989,-0.02411261759698391],\"z\":[0.29810765385627747,0.1897842288017273],\"type\":\"scatter3d\"},{\"line\":{\"color\":\"blue\",\"width\":2},\"mode\":\"lines\",\"x\":[-0.09762664884328842,-0.16603906452655792],\"y\":[-0.02411261759698391,-0.04550538957118988],\"z\":[0.1897842288017273,0.2782483994960785],\"type\":\"scatter3d\"},{\"line\":{\"color\":\"blue\",\"width\":2},\"mode\":\"lines\",\"x\":[-0.1573466807603836,-0.1970767229795456],\"y\":[-0.032874420285224915,-0.047681160271167755],\"z\":[0.329386830329895,0.41470715403556824],\"type\":\"scatter3d\"},{\"line\":{\"color\":\"blue\",\"width\":2},\"mode\":\"lines\",\"x\":[-0.1970767229795456,-0.20299841463565826],\"y\":[-0.047681160271167755,-0.05187103897333145],\"z\":[0.41470715403556824,0.430857390165329],\"type\":\"scatter3d\"}],                        {\"template\":{\"data\":{\"histogram2dcontour\":[{\"type\":\"histogram2dcontour\",\"colorbar\":{\"outlinewidth\":0,\"ticks\":\"\"},\"colorscale\":[[0.0,\"#0d0887\"],[0.1111111111111111,\"#46039f\"],[0.2222222222222222,\"#7201a8\"],[0.3333333333333333,\"#9c179e\"],[0.4444444444444444,\"#bd3786\"],[0.5555555555555556,\"#d8576b\"],[0.6666666666666666,\"#ed7953\"],[0.7777777777777778,\"#fb9f3a\"],[0.8888888888888888,\"#fdca26\"],[1.0,\"#f0f921\"]]}],\"choropleth\":[{\"type\":\"choropleth\",\"colorbar\":{\"outlinewidth\":0,\"ticks\":\"\"}}],\"histogram2d\":[{\"type\":\"histogram2d\",\"colorbar\":{\"outlinewidth\":0,\"ticks\":\"\"},\"colorscale\":[[0.0,\"#0d0887\"],[0.1111111111111111,\"#46039f\"],[0.2222222222222222,\"#7201a8\"],[0.3333333333333333,\"#9c179e\"],[0.4444444444444444,\"#bd3786\"],[0.5555555555555556,\"#d8576b\"],[0.6666666666666666,\"#ed7953\"],[0.7777777777777778,\"#fb9f3a\"],[0.8888888888888888,\"#fdca26\"],[1.0,\"#f0f921\"]]}],\"heatmap\":[{\"type\":\"heatmap\",\"colorbar\":{\"outlinewidth\":0,\"ticks\":\"\"},\"colorscale\":[[0.0,\"#0d0887\"],[0.1111111111111111,\"#46039f\"],[0.2222222222222222,\"#7201a8\"],[0.3333333333333333,\"#9c179e\"],[0.4444444444444444,\"#bd3786\"],[0.5555555555555556,\"#d8576b\"],[0.6666666666666666,\"#ed7953\"],[0.7777777777777778,\"#fb9f3a\"],[0.8888888888888888,\"#fdca26\"],[1.0,\"#f0f921\"]]}],\"heatmapgl\":[{\"type\":\"heatmapgl\",\"colorbar\":{\"outlinewidth\":0,\"ticks\":\"\"},\"colorscale\":[[0.0,\"#0d0887\"],[0.1111111111111111,\"#46039f\"],[0.2222222222222222,\"#7201a8\"],[0.3333333333333333,\"#9c179e\"],[0.4444444444444444,\"#bd3786\"],[0.5555555555555556,\"#d8576b\"],[0.6666666666666666,\"#ed7953\"],[0.7777777777777778,\"#fb9f3a\"],[0.8888888888888888,\"#fdca26\"],[1.0,\"#f0f921\"]]}],\"contourcarpet\":[{\"type\":\"contourcarpet\",\"colorbar\":{\"outlinewidth\":0,\"ticks\":\"\"}}],\"contour\":[{\"type\":\"contour\",\"colorbar\":{\"outlinewidth\":0,\"ticks\":\"\"},\"colorscale\":[[0.0,\"#0d0887\"],[0.1111111111111111,\"#46039f\"],[0.2222222222222222,\"#7201a8\"],[0.3333333333333333,\"#9c179e\"],[0.4444444444444444,\"#bd3786\"],[0.5555555555555556,\"#d8576b\"],[0.6666666666666666,\"#ed7953\"],[0.7777777777777778,\"#fb9f3a\"],[0.8888888888888888,\"#fdca26\"],[1.0,\"#f0f921\"]]}],\"surface\":[{\"type\":\"surface\",\"colorbar\":{\"outlinewidth\":0,\"ticks\":\"\"},\"colorscale\":[[0.0,\"#0d0887\"],[0.1111111111111111,\"#46039f\"],[0.2222222222222222,\"#7201a8\"],[0.3333333333333333,\"#9c179e\"],[0.4444444444444444,\"#bd3786\"],[0.5555555555555556,\"#d8576b\"],[0.6666666666666666,\"#ed7953\"],[0.7777777777777778,\"#fb9f3a\"],[0.8888888888888888,\"#fdca26\"],[1.0,\"#f0f921\"]]}],\"mesh3d\":[{\"type\":\"mesh3d\",\"colorbar\":{\"outlinewidth\":0,\"ticks\":\"\"}}],\"scatter\":[{\"fillpattern\":{\"fillmode\":\"overlay\",\"size\":10,\"solidity\":0.2},\"type\":\"scatter\"}],\"parcoords\":[{\"type\":\"parcoords\",\"line\":{\"colorbar\":{\"outlinewidth\":0,\"ticks\":\"\"}}}],\"scatterpolargl\":[{\"type\":\"scatterpolargl\",\"marker\":{\"colorbar\":{\"outlinewidth\":0,\"ticks\":\"\"}}}],\"bar\":[{\"error_x\":{\"color\":\"#2a3f5f\"},\"error_y\":{\"color\":\"#2a3f5f\"},\"marker\":{\"line\":{\"color\":\"#E5ECF6\",\"width\":0.5},\"pattern\":{\"fillmode\":\"overlay\",\"size\":10,\"solidity\":0.2}},\"type\":\"bar\"}],\"scattergeo\":[{\"type\":\"scattergeo\",\"marker\":{\"colorbar\":{\"outlinewidth\":0,\"ticks\":\"\"}}}],\"scatterpolar\":[{\"type\":\"scatterpolar\",\"marker\":{\"colorbar\":{\"outlinewidth\":0,\"ticks\":\"\"}}}],\"histogram\":[{\"marker\":{\"pattern\":{\"fillmode\":\"overlay\",\"size\":10,\"solidity\":0.2}},\"type\":\"histogram\"}],\"scattergl\":[{\"type\":\"scattergl\",\"marker\":{\"colorbar\":{\"outlinewidth\":0,\"ticks\":\"\"}}}],\"scatter3d\":[{\"type\":\"scatter3d\",\"line\":{\"colorbar\":{\"outlinewidth\":0,\"ticks\":\"\"}},\"marker\":{\"colorbar\":{\"outlinewidth\":0,\"ticks\":\"\"}}}],\"scattermapbox\":[{\"type\":\"scattermapbox\",\"marker\":{\"colorbar\":{\"outlinewidth\":0,\"ticks\":\"\"}}}],\"scatterternary\":[{\"type\":\"scatterternary\",\"marker\":{\"colorbar\":{\"outlinewidth\":0,\"ticks\":\"\"}}}],\"scattercarpet\":[{\"type\":\"scattercarpet\",\"marker\":{\"colorbar\":{\"outlinewidth\":0,\"ticks\":\"\"}}}],\"carpet\":[{\"aaxis\":{\"endlinecolor\":\"#2a3f5f\",\"gridcolor\":\"white\",\"linecolor\":\"white\",\"minorgridcolor\":\"white\",\"startlinecolor\":\"#2a3f5f\"},\"baxis\":{\"endlinecolor\":\"#2a3f5f\",\"gridcolor\":\"white\",\"linecolor\":\"white\",\"minorgridcolor\":\"white\",\"startlinecolor\":\"#2a3f5f\"},\"type\":\"carpet\"}],\"table\":[{\"cells\":{\"fill\":{\"color\":\"#EBF0F8\"},\"line\":{\"color\":\"white\"}},\"header\":{\"fill\":{\"color\":\"#C8D4E3\"},\"line\":{\"color\":\"white\"}},\"type\":\"table\"}],\"barpolar\":[{\"marker\":{\"line\":{\"color\":\"#E5ECF6\",\"width\":0.5},\"pattern\":{\"fillmode\":\"overlay\",\"size\":10,\"solidity\":0.2}},\"type\":\"barpolar\"}],\"pie\":[{\"automargin\":true,\"type\":\"pie\"}]},\"layout\":{\"autotypenumbers\":\"strict\",\"colorway\":[\"#636efa\",\"#EF553B\",\"#00cc96\",\"#ab63fa\",\"#FFA15A\",\"#19d3f3\",\"#FF6692\",\"#B6E880\",\"#FF97FF\",\"#FECB52\"],\"font\":{\"color\":\"#2a3f5f\"},\"hovermode\":\"closest\",\"hoverlabel\":{\"align\":\"left\"},\"paper_bgcolor\":\"white\",\"plot_bgcolor\":\"#E5ECF6\",\"polar\":{\"bgcolor\":\"#E5ECF6\",\"angularaxis\":{\"gridcolor\":\"white\",\"linecolor\":\"white\",\"ticks\":\"\"},\"radialaxis\":{\"gridcolor\":\"white\",\"linecolor\":\"white\",\"ticks\":\"\"}},\"ternary\":{\"bgcolor\":\"#E5ECF6\",\"aaxis\":{\"gridcolor\":\"white\",\"linecolor\":\"white\",\"ticks\":\"\"},\"baxis\":{\"gridcolor\":\"white\",\"linecolor\":\"white\",\"ticks\":\"\"},\"caxis\":{\"gridcolor\":\"white\",\"linecolor\":\"white\",\"ticks\":\"\"}},\"coloraxis\":{\"colorbar\":{\"outlinewidth\":0,\"ticks\":\"\"}},\"colorscale\":{\"sequential\":[[0.0,\"#0d0887\"],[0.1111111111111111,\"#46039f\"],[0.2222222222222222,\"#7201a8\"],[0.3333333333333333,\"#9c179e\"],[0.4444444444444444,\"#bd3786\"],[0.5555555555555556,\"#d8576b\"],[0.6666666666666666,\"#ed7953\"],[0.7777777777777778,\"#fb9f3a\"],[0.8888888888888888,\"#fdca26\"],[1.0,\"#f0f921\"]],\"sequentialminus\":[[0.0,\"#0d0887\"],[0.1111111111111111,\"#46039f\"],[0.2222222222222222,\"#7201a8\"],[0.3333333333333333,\"#9c179e\"],[0.4444444444444444,\"#bd3786\"],[0.5555555555555556,\"#d8576b\"],[0.6666666666666666,\"#ed7953\"],[0.7777777777777778,\"#fb9f3a\"],[0.8888888888888888,\"#fdca26\"],[1.0,\"#f0f921\"]],\"diverging\":[[0,\"#8e0152\"],[0.1,\"#c51b7d\"],[0.2,\"#de77ae\"],[0.3,\"#f1b6da\"],[0.4,\"#fde0ef\"],[0.5,\"#f7f7f7\"],[0.6,\"#e6f5d0\"],[0.7,\"#b8e186\"],[0.8,\"#7fbc41\"],[0.9,\"#4d9221\"],[1,\"#276419\"]]},\"xaxis\":{\"gridcolor\":\"white\",\"linecolor\":\"white\",\"ticks\":\"\",\"title\":{\"standoff\":15},\"zerolinecolor\":\"white\",\"automargin\":true,\"zerolinewidth\":2},\"yaxis\":{\"gridcolor\":\"white\",\"linecolor\":\"white\",\"ticks\":\"\",\"title\":{\"standoff\":15},\"zerolinecolor\":\"white\",\"automargin\":true,\"zerolinewidth\":2},\"scene\":{\"xaxis\":{\"backgroundcolor\":\"#E5ECF6\",\"gridcolor\":\"white\",\"linecolor\":\"white\",\"showbackground\":true,\"ticks\":\"\",\"zerolinecolor\":\"white\",\"gridwidth\":2},\"yaxis\":{\"backgroundcolor\":\"#E5ECF6\",\"gridcolor\":\"white\",\"linecolor\":\"white\",\"showbackground\":true,\"ticks\":\"\",\"zerolinecolor\":\"white\",\"gridwidth\":2},\"zaxis\":{\"backgroundcolor\":\"#E5ECF6\",\"gridcolor\":\"white\",\"linecolor\":\"white\",\"showbackground\":true,\"ticks\":\"\",\"zerolinecolor\":\"white\",\"gridwidth\":2}},\"shapedefaults\":{\"line\":{\"color\":\"#2a3f5f\"}},\"annotationdefaults\":{\"arrowcolor\":\"#2a3f5f\",\"arrowhead\":0,\"arrowwidth\":1},\"geo\":{\"bgcolor\":\"white\",\"landcolor\":\"#E5ECF6\",\"subunitcolor\":\"white\",\"showland\":true,\"showlakes\":true,\"lakecolor\":\"white\"},\"title\":{\"x\":0.05},\"mapbox\":{\"style\":\"light\"}}},\"scene\":{\"domain\":{\"x\":[0.0,1.0],\"y\":[0.0,1.0]},\"xaxis\":{\"title\":{\"text\":\"x\"},\"range\":[-0.21299841463565827,0.08847781479358673]},\"yaxis\":{\"title\":{\"text\":\"y\"},\"range\":[-0.06187103897333145,0.06330651253461837]},\"zaxis\":{\"title\":{\"text\":\"z\"},\"range\":[-0.01,0.440857390165329]}},\"legend\":{\"tracegroupgap\":0},\"margin\":{\"t\":60},\"height\":800,\"width\":800,\"showlegend\":false},                        {\"responsive\": true}                    ).then(function(){\n",
       "                            \n",
       "var gd = document.getElementById('44b69a0f-63b5-4498-b622-0b4b339dea84');\n",
       "var x = new MutationObserver(function (mutations, observer) {{\n",
       "        var display = window.getComputedStyle(gd).display;\n",
       "        if (!display || display === 'none') {{\n",
       "            console.log([gd, 'removed!']);\n",
       "            Plotly.purge(gd);\n",
       "            observer.disconnect();\n",
       "        }}\n",
       "}});\n",
       "\n",
       "// Listen for the removal of the full notebook cells\n",
       "var notebookContainer = gd.closest('#notebook-container');\n",
       "if (notebookContainer) {{\n",
       "    x.observe(notebookContainer, {childList: true});\n",
       "}}\n",
       "\n",
       "// Listen for the clearing of the current output cell\n",
       "var outputEl = gd.closest('.output');\n",
       "if (outputEl) {{\n",
       "    x.observe(outputEl, {childList: true});\n",
       "}}\n",
       "\n",
       "                        })                };                });            </script>        </div>"
      ]
     },
     "metadata": {},
     "output_type": "display_data"
    }
   ],
   "source": [
    "abba.plot_3D(remove_head=False, offset = 0.01)"
   ]
  }
 ],
 "metadata": {
  "kernelspec": {
   "display_name": "Python 3 (ipykernel)",
   "language": "python",
   "name": "python3"
  },
  "language_info": {
   "codemirror_mode": {
    "name": "ipython",
    "version": 3
   },
   "file_extension": ".py",
   "mimetype": "text/x-python",
   "name": "python",
   "nbconvert_exporter": "python",
   "pygments_lexer": "ipython3",
   "version": "3.10.13"
  }
 },
 "nbformat": 4,
 "nbformat_minor": 2
}
