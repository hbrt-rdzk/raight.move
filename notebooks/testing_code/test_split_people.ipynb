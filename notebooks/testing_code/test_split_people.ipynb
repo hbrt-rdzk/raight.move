{
 "cells": [
  {
   "cell_type": "code",
   "execution_count": 22,
   "metadata": {},
   "outputs": [],
   "source": [
    "import os\n",
    "import torch\n",
    "import yaml\n",
    "from tqdm import tqdm\n",
    "from ultralytics import YOLO"
   ]
  },
  {
   "cell_type": "code",
   "execution_count": 25,
   "metadata": {},
   "outputs": [
    {
     "name": "stdout",
     "output_type": "stream",
     "text": [
      "Znaleziono folder \"config\" w: c:\\Program Files (x86)\\Common Files\\projekt_nw\n"
     ]
    }
   ],
   "source": [
    "def find_and_set_config_path():\n",
    "    current_path = os.getcwd()\n",
    "\n",
    "    while not os.path.exists(os.path.join(current_path, 'config')):\n",
    "        parent_path = os.path.dirname(current_path)\n",
    "\n",
    "        # Sprawdź, czy osiągnęliśmy korzeń systemu plików\n",
    "        if current_path == parent_path:\n",
    "            print(\"Nie znaleziono folderu 'config' w żadnym z katalogów nadrzędnych.\")\n",
    "            return\n",
    "\n",
    "        current_path = parent_path\n",
    "\n",
    "    os.chdir(current_path)\n",
    "    print(f'Znaleziono folder \"config\" w: {current_path}')\n",
    "    \n",
    "find_and_set_config_path()"
   ]
  },
  {
   "cell_type": "code",
   "execution_count": 50,
   "metadata": {},
   "outputs": [],
   "source": [
    "config_path = os.path.join('config', '1_per.yaml')\n",
    "\n",
    "with open(config_path) as f:\n",
    "    cfg = yaml.load(f, Loader=yaml.FullLoader)\n",
    "    \n",
    "photos_path = cfg['path_image']\n",
    "model_file = cfg['model_detection']\n",
    "output_file = cfg['path_data']\n",
    "threshold = cfg['threshold_detection']"
   ]
  },
  {
   "cell_type": "code",
   "execution_count": 51,
   "metadata": {},
   "outputs": [],
   "source": [
    "def count_people(photos_path, model_file, person_label=0., threshold=0.5, chunk_size=100):\n",
    "    device = torch.device('cuda' if torch.cuda.is_available() else 'cpu')\n",
    "    model = YOLO(model_file)\n",
    "    model = model.to(device)\n",
    "    \n",
    "    photo_names = [photo_name for photo_name in os.listdir(photos_path)]\n",
    "    photos_paths = [os.path.join(photos_path, photo_name) for photo_name in photo_names]\n",
    "    \n",
    "    counter_people = {}\n",
    "    for i in tqdm(range(0, len(photos_paths), chunk_size)):\n",
    "        chunk_paths = photos_paths[i:i+chunk_size]\n",
    "        chunk_names = photo_names[i:i+chunk_size]\n",
    "\n",
    "        results = model.predict(source=chunk_paths, conf=threshold, device=device, classes=person_label)\n",
    "        results = {photo_name:len(result.boxes.cls) for photo_name, result in zip(chunk_names, results)}\n",
    "        counter_people.update(results)\n",
    "        break\n",
    "    return counter_people"
   ]
  },
  {
   "cell_type": "code",
   "execution_count": 52,
   "metadata": {},
   "outputs": [
    {
     "name": "stderr",
     "output_type": "stream",
     "text": [
      "  0%|          | 0/1273 [00:00<?, ?it/s]"
     ]
    },
    {
     "name": "stdout",
     "output_type": "stream",
     "text": [
      "\n",
      "0: 640x640 (no detections), 1: 640x640 (no detections), 2: 640x640 (no detections), 3: 640x640 (no detections), 4: 640x640 (no detections), 5: 640x640 (no detections), 6: 640x640 (no detections), 7: 640x640 (no detections), 8: 640x640 (no detections), 9: 640x640 (no detections), 10: 640x640 (no detections), 11: 640x640 (no detections), 12: 640x640 (no detections), 13: 640x640 (no detections), 14: 640x640 (no detections), 15: 640x640 (no detections), 16: 640x640 (no detections), 17: 640x640 (no detections), 18: 640x640 (no detections), 19: 640x640 (no detections), 20: 640x640 (no detections), 21: 640x640 (no detections), 22: 640x640 (no detections), 23: 640x640 (no detections), 24: 640x640 (no detections), 25: 640x640 (no detections), 26: 640x640 (no detections), 27: 640x640 (no detections), 28: 640x640 (no detections), 29: 640x640 (no detections), 30: 640x640 (no detections), 31: 640x640 (no detections), 32: 640x640 (no detections), 33: 640x640 (no detections), 34: 640x640 (no detections), 35: 640x640 1 person, 36: 640x640 (no detections), 37: 640x640 (no detections), 38: 640x640 (no detections), 39: 640x640 2 persons, 40: 640x640 (no detections), 41: 640x640 (no detections), 42: 640x640 (no detections), 43: 640x640 (no detections), 44: 640x640 (no detections), 45: 640x640 (no detections), 46: 640x640 (no detections), 47: 640x640 (no detections), 48: 640x640 (no detections), 49: 640x640 (no detections), 50: 640x640 (no detections), 51: 640x640 (no detections), 52: 640x640 (no detections), 53: 640x640 (no detections), 54: 640x640 (no detections), 55: 640x640 (no detections), 56: 640x640 (no detections), 57: 640x640 (no detections), 58: 640x640 (no detections), 59: 640x640 (no detections), 60: 640x640 1 person, 61: 640x640 (no detections), 62: 640x640 (no detections), 63: 640x640 (no detections), 64: 640x640 (no detections), 65: 640x640 (no detections), 66: 640x640 (no detections), 67: 640x640 1 person, 68: 640x640 (no detections), 69: 640x640 (no detections), 70: 640x640 (no detections), 71: 640x640 (no detections), 72: 640x640 (no detections), 73: 640x640 (no detections), 74: 640x640 (no detections), 75: 640x640 1 person, 76: 640x640 (no detections), 77: 640x640 (no detections), 78: 640x640 (no detections), 79: 640x640 1 person, 80: 640x640 (no detections), 81: 640x640 1 person, 82: 640x640 (no detections), 83: 640x640 (no detections), 84: 640x640 (no detections), 85: 640x640 (no detections), 86: 640x640 (no detections), 87: 640x640 (no detections), 88: 640x640 (no detections), 89: 640x640 (no detections), 90: 640x640 (no detections), 91: 640x640 (no detections), 92: 640x640 (no detections), 93: 640x640 (no detections), 94: 640x640 (no detections), 95: 640x640 (no detections), 96: 640x640 (no detections), 97: 640x640 (no detections), 98: 640x640 (no detections), 99: 640x640 (no detections), 3088.0ms\n",
      "Speed: 3.4ms preprocess, 30.9ms inference, 1.0ms postprocess per image at shape (1, 3, 640, 640)\n"
     ]
    },
    {
     "name": "stderr",
     "output_type": "stream",
     "text": [
      "  0%|          | 0/1273 [00:04<?, ?it/s]\n"
     ]
    }
   ],
   "source": [
    "threshold_string = str(threshold).replace('.', ',')\n",
    "output_file = os.path.join(output_file, f'photo_people_mappping_{threshold_string}.txt')\n",
    "\n",
    "a = count_people(photos_path, model_file, chunk_size=100)"
   ]
  },
  {
   "cell_type": "code",
   "execution_count": 53,
   "metadata": {},
   "outputs": [],
   "source": [
    "with open(output_file, 'w') as file:\n",
    "    file.write('\\n'.join([f'{key}\\t{value}' for key, value in a.items()]))"
   ]
  }
 ],
 "metadata": {
  "kernelspec": {
   "display_name": "abc",
   "language": "python",
   "name": "python3"
  },
  "language_info": {
   "codemirror_mode": {
    "name": "ipython",
    "version": 3
   },
   "file_extension": ".py",
   "mimetype": "text/x-python",
   "name": "python",
   "nbconvert_exporter": "python",
   "pygments_lexer": "ipython3",
   "version": "3.8.18"
  }
 },
 "nbformat": 4,
 "nbformat_minor": 2
}
