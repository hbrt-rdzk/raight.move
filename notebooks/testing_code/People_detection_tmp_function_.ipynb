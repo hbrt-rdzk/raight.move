{
 "cells": [
  {
   "cell_type": "code",
   "execution_count": 4,
   "id": "d2e7fb8b-5ede-461b-a9dc-1cbd73755e31",
   "metadata": {},
   "outputs": [],
   "source": [
    "import pandas as pd\n",
    "import json\n",
    "import os\n",
    "from tqdm import tqdm\n",
    "import ast\n",
    "import shutil\n",
    "from PIL import Image\n",
    "import matplotlib.pyplot as plt"
   ]
  },
  {
   "cell_type": "code",
   "execution_count": 2,
   "id": "4d88ac3e-34d5-4520-8cf8-88d447e41d9e",
   "metadata": {},
   "outputs": [],
   "source": [
    "source = \"E:\\Influencer dataset\\Post metadata (JSON files)\\info\" "
   ]
  },
  {
   "cell_type": "code",
   "execution_count": 3,
   "id": "919fbde9-d914-46ac-a4b6-dd1827884a3c",
   "metadata": {},
   "outputs": [],
   "source": [
    "time = '___noangel-1635867223678332074.info'"
   ]
  },
  {
   "cell_type": "code",
   "execution_count": 10,
   "id": "b708de96-a825-477e-9c87-b0feb503db32",
   "metadata": {},
   "outputs": [],
   "source": [
    "with open(source + '\\___noangel-1635867223678332074.info') as f:\n",
    "    data = json.load(f)"
   ]
  },
  {
   "cell_type": "code",
   "execution_count": 12,
   "id": "6b280a04-2626-4601-8fb5-32abd65c7aa1",
   "metadata": {},
   "outputs": [
    {
     "data": {
      "text/plain": [
       "'1635867223678332074'"
      ]
     },
     "execution_count": 12,
     "metadata": {},
     "output_type": "execute_result"
    }
   ],
   "source": [
    "data['id']"
   ]
  },
  {
   "cell_type": "markdown",
   "id": "c3ce779f-b190-4850-8f59-dbecbd4ac4cb",
   "metadata": {},
   "source": [
    "# Ile osób znajduje się na zdjęciu - operacja na metadanych zbioru"
   ]
  },
  {
   "cell_type": "code",
   "execution_count": 15,
   "id": "f2a63fa8-c66d-4af8-8308-41e2241a8a16",
   "metadata": {},
   "outputs": [
    {
     "data": {
      "text/plain": [
       "'Image may contain: 2 people'"
      ]
     },
     "execution_count": 15,
     "metadata": {},
     "output_type": "execute_result"
    }
   ],
   "source": [
    "data['accessibility_caption']"
   ]
  },
  {
   "cell_type": "code",
   "execution_count": 14,
   "id": "a57ee4ac-55bc-43b8-bfab-1f970d5bf660",
   "metadata": {},
   "outputs": [],
   "source": [
    "abspath_src_folder_info = 'E:/Influencer dataset/Post metadata (JSON files)/info/'"
   ]
  },
  {
   "cell_type": "code",
   "execution_count": 20,
   "id": "ae536d3a-5477-4158-bcc3-1c6d2aee8455",
   "metadata": {},
   "outputs": [
    {
     "name": "stderr",
     "output_type": "stream",
     "text": [
      "100%|██████████| 97481/97481 [07:13<00:00, 224.76it/s]\n"
     ]
    }
   ],
   "source": [
    "for filename in tqdm(os.listdir(abspath_src_folder_info)):\n",
    "    author_post = filename.split('-')[0]\n",
    "    post_id = filename.split('-')[1].split('.')[0]\n",
    "    data = None\n",
    "\n",
    "    if os.path.getsize(abspath_src_folder_info + '/' + f\"{filename}\") == 0:\n",
    "        continue\n",
    "\n",
    "    with open(abspath_src_folder_info + '/' + f\"{filename}\") as f:\n",
    "        data = json.load(f)\n",
    "        f.close()\n",
    "    \n",
    "    if 'accessibility_caption' in data:\n",
    "        record = {\n",
    "            'post_author': author_post,\n",
    "            'post_id': post_id,\n",
    "            'count_persons': data['accessibility_caption']\n",
    "        }\n",
    "    else:\n",
    "        record = {\n",
    "            'post_author': author_post,\n",
    "            'post_id': post_id,\n",
    "            'count_persons': 'No info'\n",
    "        }\n",
    "\n",
    "    with open('E:\\meta_count_person.json', 'a') as file:\n",
    "        json.dump(record, file)\n",
    "        file.write('\\n')"
   ]
  },
  {
   "cell_type": "code",
   "execution_count": 71,
   "id": "eca2950d-2fad-4427-bb1d-ec036228d873",
   "metadata": {},
   "outputs": [],
   "source": [
    "def load_dictlist(f):\n",
    "    ret = []\n",
    "    for line in f:\n",
    "        newdict = ast.literal_eval(line)\n",
    "        if type(newdict) == dict:\n",
    "            ret.append(newdict)\n",
    "    return ret"
   ]
  },
  {
   "cell_type": "code",
   "execution_count": 72,
   "id": "457eaa88-2d41-42a4-bc5e-2ca4fb0cd135",
   "metadata": {},
   "outputs": [],
   "source": [
    "with open('E:\\meta_count_person.json', 'r') as file:\n",
    "    data = [json.loads(line) for line in file]\n",
    "\n",
    "df_person = pd.DataFrame(data)"
   ]
  },
  {
   "cell_type": "code",
   "execution_count": 73,
   "id": "60bbc7c3-bc4d-46da-9f62-3d306dee7d59",
   "metadata": {},
   "outputs": [],
   "source": [
    "df_person = df_person.drop_duplicates().reset_index(drop=True)"
   ]
  },
  {
   "cell_type": "code",
   "execution_count": 74,
   "id": "c9fa6c54-7d29-4f40-99f6-7cf0bdc7c294",
   "metadata": {},
   "outputs": [
    {
     "data": {
      "text/html": [
       "<div>\n",
       "<style scoped>\n",
       "    .dataframe tbody tr th:only-of-type {\n",
       "        vertical-align: middle;\n",
       "    }\n",
       "\n",
       "    .dataframe tbody tr th {\n",
       "        vertical-align: top;\n",
       "    }\n",
       "\n",
       "    .dataframe thead th {\n",
       "        text-align: right;\n",
       "    }\n",
       "</style>\n",
       "<table border=\"1\" class=\"dataframe\">\n",
       "  <thead>\n",
       "    <tr style=\"text-align: right;\">\n",
       "      <th></th>\n",
       "      <th>post_author</th>\n",
       "      <th>post_id</th>\n",
       "      <th>count_persons</th>\n",
       "    </tr>\n",
       "  </thead>\n",
       "  <tbody>\n",
       "    <tr>\n",
       "      <th>0</th>\n",
       "      <td>21andhungry</td>\n",
       "      <td>1666253905100487663</td>\n",
       "      <td>Image may contain: 1 person</td>\n",
       "    </tr>\n",
       "    <tr>\n",
       "      <th>1</th>\n",
       "      <td>21andhungry</td>\n",
       "      <td>1668268760837796181</td>\n",
       "      <td>Image may contain: 1 person</td>\n",
       "    </tr>\n",
       "    <tr>\n",
       "      <th>2</th>\n",
       "      <td>21andhungry</td>\n",
       "      <td>1669072952493961511</td>\n",
       "      <td>No photo description available.</td>\n",
       "    </tr>\n",
       "    <tr>\n",
       "      <th>3</th>\n",
       "      <td>21andhungry</td>\n",
       "      <td>1669793074191906720</td>\n",
       "      <td>No photo description available.</td>\n",
       "    </tr>\n",
       "    <tr>\n",
       "      <th>4</th>\n",
       "      <td>21andhungry</td>\n",
       "      <td>1670554832695241323</td>\n",
       "      <td>No photo description available.</td>\n",
       "    </tr>\n",
       "    <tr>\n",
       "      <th>...</th>\n",
       "      <td>...</td>\n",
       "      <td>...</td>\n",
       "      <td>...</td>\n",
       "    </tr>\n",
       "    <tr>\n",
       "      <th>97484</th>\n",
       "      <td>___noangel</td>\n",
       "      <td>2030225987314001912</td>\n",
       "      <td>Image may contain: 1 person, closeup</td>\n",
       "    </tr>\n",
       "    <tr>\n",
       "      <th>97485</th>\n",
       "      <td>___noangel</td>\n",
       "      <td>2030967648977663153</td>\n",
       "      <td>No info</td>\n",
       "    </tr>\n",
       "    <tr>\n",
       "      <th>97486</th>\n",
       "      <td>___noangel</td>\n",
       "      <td>2031614124434951959</td>\n",
       "      <td>Image may contain: 1 person, closeup</td>\n",
       "    </tr>\n",
       "    <tr>\n",
       "      <th>97487</th>\n",
       "      <td>___noangel</td>\n",
       "      <td>2033752253400951154</td>\n",
       "      <td>No info</td>\n",
       "    </tr>\n",
       "    <tr>\n",
       "      <th>97488</th>\n",
       "      <td>___noangel</td>\n",
       "      <td>2034138402149657095</td>\n",
       "      <td>Image may contain: 2 people, people standing</td>\n",
       "    </tr>\n",
       "  </tbody>\n",
       "</table>\n",
       "<p>97489 rows × 3 columns</p>\n",
       "</div>"
      ],
      "text/plain": [
       "       post_author              post_id  \\\n",
       "0      21andhungry  1666253905100487663   \n",
       "1      21andhungry  1668268760837796181   \n",
       "2      21andhungry  1669072952493961511   \n",
       "3      21andhungry  1669793074191906720   \n",
       "4      21andhungry  1670554832695241323   \n",
       "...            ...                  ...   \n",
       "97484   ___noangel  2030225987314001912   \n",
       "97485   ___noangel  2030967648977663153   \n",
       "97486   ___noangel  2031614124434951959   \n",
       "97487   ___noangel  2033752253400951154   \n",
       "97488   ___noangel  2034138402149657095   \n",
       "\n",
       "                                      count_persons  \n",
       "0                       Image may contain: 1 person  \n",
       "1                       Image may contain: 1 person  \n",
       "2                   No photo description available.  \n",
       "3                   No photo description available.  \n",
       "4                   No photo description available.  \n",
       "...                                             ...  \n",
       "97484          Image may contain: 1 person, closeup  \n",
       "97485                                       No info  \n",
       "97486          Image may contain: 1 person, closeup  \n",
       "97487                                       No info  \n",
       "97488  Image may contain: 2 people, people standing  \n",
       "\n",
       "[97489 rows x 3 columns]"
      ]
     },
     "execution_count": 74,
     "metadata": {},
     "output_type": "execute_result"
    }
   ],
   "source": [
    "df_person"
   ]
  },
  {
   "cell_type": "code",
   "execution_count": 75,
   "id": "5de0d459-0359-4648-b8e1-22f92579e6ae",
   "metadata": {},
   "outputs": [
    {
     "data": {
      "text/plain": [
       "No photo description available.                                                      16182\n",
       "No info                                                                              10753\n",
       "Image may contain: 1 person                                                          10299\n",
       "Image may contain: food                                                               3070\n",
       "Image may contain: 2 people                                                           2652\n",
       "                                                                                     ...  \n",
       "Image may contain: people sitting, plant, flower, table, tree, outdoor and nature        1\n",
       "Image may contain: 2 people, wedding, ocean and outdoor                                  1\n",
       "Image may contain: 5 people, wedding, tree and outdoor                                   1\n",
       "Image may contain: flower and wedding                                                    1\n",
       "Image may contain: 1 person, standing, hat and closeup                                   1\n",
       "Name: count_persons, Length: 8377, dtype: int64"
      ]
     },
     "execution_count": 75,
     "metadata": {},
     "output_type": "execute_result"
    }
   ],
   "source": [
    "df_person['count_persons'].value_counts()"
   ]
  },
  {
   "cell_type": "code",
   "execution_count": 76,
   "id": "bcf183c9-f94c-4839-83c4-279a049a7d83",
   "metadata": {},
   "outputs": [
    {
     "data": {
      "text/plain": [
       "8377"
      ]
     },
     "execution_count": 76,
     "metadata": {},
     "output_type": "execute_result"
    }
   ],
   "source": [
    "len(df_person['count_persons'].value_counts())"
   ]
  },
  {
   "cell_type": "code",
   "execution_count": 2,
   "id": "fe198bdc-d743-4b1d-874c-187a981653ce",
   "metadata": {},
   "outputs": [],
   "source": [
    "def select(string):\n",
    "    '''\n",
    "    Utworzenie kategorii zaiwerjacące informacji dotyczące ilości osób na zdjęciu\n",
    "    '''\n",
    "    \n",
    "    if 'person' in string:\n",
    "        return '1 person'\n",
    "    elif 'people' in string:\n",
    "        return 'More than 1 person'\n",
    "    elif ('No info' in string) or ('No photo description available.' in string):\n",
    "        return 'No info'\n",
    "    else:\n",
    "        return 'Other'"
   ]
  },
  {
   "cell_type": "code",
   "execution_count": 78,
   "id": "c63e716e-f7b2-41e9-91d9-3fcf7e0f3518",
   "metadata": {},
   "outputs": [
    {
     "name": "stdout",
     "output_type": "stream",
     "text": [
      "1 person\n",
      "More than 1 person\n",
      "No info\n",
      "No info\n",
      "1 person\n",
      "Other\n"
     ]
    }
   ],
   "source": [
    "for item in ['dsfdsf person','sdf sd people dsf sdf','No info ','No photo description available.','1 person, standing, hat and closeup','hat and closeup']:\n",
    "    print(select(item))"
   ]
  },
  {
   "cell_type": "code",
   "execution_count": 79,
   "id": "a07bf516-ceb4-4161-a024-ceeda2e73ff9",
   "metadata": {},
   "outputs": [],
   "source": [
    "df_person['class'] = df_person['count_persons'].apply(lambda x: select(str(x)))"
   ]
  },
  {
   "cell_type": "code",
   "execution_count": 80,
   "id": "35526f5c-529f-4fb0-9fa3-cb2966f431e1",
   "metadata": {},
   "outputs": [
    {
     "data": {
      "text/plain": [
       "1 person              32926\n",
       "No info               26935\n",
       "More than 1 person    21503\n",
       "Other                 16125\n",
       "Name: class, dtype: int64"
      ]
     },
     "execution_count": 80,
     "metadata": {},
     "output_type": "execute_result"
    }
   ],
   "source": [
    "df_person['class'].value_counts()"
   ]
  },
  {
   "cell_type": "code",
   "execution_count": 81,
   "id": "d5c22bd3-ba8f-4b81-9c2b-14338c28b74b",
   "metadata": {},
   "outputs": [],
   "source": [
    "df_person['name'] = df_person['post_author'] + '-' + df_person['post_id'] + '.jpg'"
   ]
  },
  {
   "cell_type": "code",
   "execution_count": 83,
   "id": "0223b33f-77f5-4cb7-b924-c8754a75bd66",
   "metadata": {},
   "outputs": [
    {
     "data": {
      "text/html": [
       "<div>\n",
       "<style scoped>\n",
       "    .dataframe tbody tr th:only-of-type {\n",
       "        vertical-align: middle;\n",
       "    }\n",
       "\n",
       "    .dataframe tbody tr th {\n",
       "        vertical-align: top;\n",
       "    }\n",
       "\n",
       "    .dataframe thead th {\n",
       "        text-align: right;\n",
       "    }\n",
       "</style>\n",
       "<table border=\"1\" class=\"dataframe\">\n",
       "  <thead>\n",
       "    <tr style=\"text-align: right;\">\n",
       "      <th></th>\n",
       "      <th>post_author</th>\n",
       "      <th>post_id</th>\n",
       "      <th>count_persons</th>\n",
       "      <th>class</th>\n",
       "      <th>name</th>\n",
       "    </tr>\n",
       "  </thead>\n",
       "  <tbody>\n",
       "    <tr>\n",
       "      <th>0</th>\n",
       "      <td>21andhungry</td>\n",
       "      <td>1666253905100487663</td>\n",
       "      <td>Image may contain: 1 person</td>\n",
       "      <td>1 person</td>\n",
       "      <td>21andhungry-1666253905100487663.jpg</td>\n",
       "    </tr>\n",
       "    <tr>\n",
       "      <th>1</th>\n",
       "      <td>21andhungry</td>\n",
       "      <td>1668268760837796181</td>\n",
       "      <td>Image may contain: 1 person</td>\n",
       "      <td>1 person</td>\n",
       "      <td>21andhungry-1668268760837796181.jpg</td>\n",
       "    </tr>\n",
       "    <tr>\n",
       "      <th>2</th>\n",
       "      <td>21andhungry</td>\n",
       "      <td>1669072952493961511</td>\n",
       "      <td>No photo description available.</td>\n",
       "      <td>No info</td>\n",
       "      <td>21andhungry-1669072952493961511.jpg</td>\n",
       "    </tr>\n",
       "    <tr>\n",
       "      <th>3</th>\n",
       "      <td>21andhungry</td>\n",
       "      <td>1669793074191906720</td>\n",
       "      <td>No photo description available.</td>\n",
       "      <td>No info</td>\n",
       "      <td>21andhungry-1669793074191906720.jpg</td>\n",
       "    </tr>\n",
       "    <tr>\n",
       "      <th>4</th>\n",
       "      <td>21andhungry</td>\n",
       "      <td>1670554832695241323</td>\n",
       "      <td>No photo description available.</td>\n",
       "      <td>No info</td>\n",
       "      <td>21andhungry-1670554832695241323.jpg</td>\n",
       "    </tr>\n",
       "  </tbody>\n",
       "</table>\n",
       "</div>"
      ],
      "text/plain": [
       "   post_author              post_id                    count_persons  \\\n",
       "0  21andhungry  1666253905100487663      Image may contain: 1 person   \n",
       "1  21andhungry  1668268760837796181      Image may contain: 1 person   \n",
       "2  21andhungry  1669072952493961511  No photo description available.   \n",
       "3  21andhungry  1669793074191906720  No photo description available.   \n",
       "4  21andhungry  1670554832695241323  No photo description available.   \n",
       "\n",
       "      class                                 name  \n",
       "0  1 person  21andhungry-1666253905100487663.jpg  \n",
       "1  1 person  21andhungry-1668268760837796181.jpg  \n",
       "2   No info  21andhungry-1669072952493961511.jpg  \n",
       "3   No info  21andhungry-1669793074191906720.jpg  \n",
       "4   No info  21andhungry-1670554832695241323.jpg  "
      ]
     },
     "execution_count": 83,
     "metadata": {},
     "output_type": "execute_result"
    }
   ],
   "source": [
    "df_person.head()"
   ]
  },
  {
   "cell_type": "code",
   "execution_count": 84,
   "id": "0b11db17-b69e-4c3c-a77c-75c115db4d4e",
   "metadata": {},
   "outputs": [],
   "source": [
    "list_class = list(df_person['class'].unique())"
   ]
  },
  {
   "cell_type": "code",
   "execution_count": 90,
   "id": "05f9a15c-88a2-413b-a8ca-86dd8cd2db15",
   "metadata": {},
   "outputs": [
    {
     "name": "stdout",
     "output_type": "stream",
     "text": [
      "32926\n",
      "26934\n",
      "16125\n",
      "21503\n"
     ]
    }
   ],
   "source": [
    "for item in list_class:\n",
    "    list_name = list(df_person[df_person['class'] == item]['name'].unique())\n",
    "    print(len(list_name))"
   ]
  },
  {
   "cell_type": "markdown",
   "metadata": {},
   "source": [
    "# Stworzenie odpowiednich folderów z podziałem osób"
   ]
  },
  {
   "cell_type": "code",
   "execution_count": null,
   "metadata": {},
   "outputs": [],
   "source": [
    "abspath_src_folder_image = 'E:/Influencer dataset/Post images (JPG files)/posts_image/image/'\n",
    "dest_folder = 'E:/'"
   ]
  },
  {
   "cell_type": "code",
   "execution_count": null,
   "metadata": {},
   "outputs": [],
   "source": [
    "def splitting_images(abspath_src_folder_image,\n",
    "                          dest_folder,\n",
    "                          df_person):\n",
    "\n",
    "    abspath_src_folder_image = os.path.abspath(abspath_src_folder_image)\n",
    "    \n",
    "    list_class = list(df_person['class'].unique())\n",
    "    for item in list_class:\n",
    "        list_name = list(df_person[df_person['class'] == item]['name'].unique())\n",
    "        \n",
    "        image = f\"Influencer_dataset_sort_sort_images/Post images (JPG files)/posts_image/image/{item}\"\n",
    "        \n",
    "        dest_folder_image = os.path.abspath(os.path.join(dest_folder, image))\n",
    "        \n",
    "        \n",
    "        if not os.path.exists(dest_folder_image):\n",
    "            os.makedirs(dest_folder_image)\n",
    "            print(f\"Utworzono folder: {dest_folder_image}\")\n",
    "        else:\n",
    "            print(f\"Folder {dest_folder_image} już istnieje.\")\n",
    "            \n",
    "        print(\"Kopiowanie zdjęć\")\n",
    "        \n",
    "        for filename in tqdm(os.listdir(abspath_src_folder_image)):\n",
    "            for name in list_name:\n",
    "                if filename.startswith(name):\n",
    "\n",
    "                    src_file = os.path.join(abspath_src_folder_image, filename)\n",
    "                    dest_file = os.path.join(dest_folder_image, filename)\n",
    "\n",
    "                    shutil.copy(src_file,dest_file)\n",
    "                    break"
   ]
  },
  {
   "cell_type": "code",
   "execution_count": null,
   "metadata": {},
   "outputs": [],
   "source": [
    "splitting_images(abspath_src_folder_image,\n",
    "                 dest_folder,\n",
    "                 df_person)                 "
   ]
  }
 ],
 "metadata": {
  "kernelspec": {
   "display_name": "Python 3 (ipykernel)",
   "language": "python",
   "name": "python3"
  }
 },
 "nbformat": 4,
 "nbformat_minor": 5
}
